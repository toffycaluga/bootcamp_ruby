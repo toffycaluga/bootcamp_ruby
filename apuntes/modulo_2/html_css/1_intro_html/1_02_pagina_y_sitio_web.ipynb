{
 "cells": [
  {
   "attachments": {},
   "cell_type": "markdown",
   "metadata": {},
   "source": [
    "# Página web o sitio web"
   ]
  },
  {
   "attachments": {},
   "cell_type": "markdown",
   "metadata": {},
   "source": [
    "## ¿Página web o sitio web ?"
   ]
  },
  {
   "attachments": {},
   "cell_type": "markdown",
   "metadata": {},
   "source": [
    "### página web"
   ]
  },
  {
   "attachments": {},
   "cell_type": "markdown",
   "metadata": {},
   "source": [
    "- documento que puede ser visto a través de un navegador.\n",
    "\n",
    "- Están construidos en un lenguaje de etiquetas llamado HTML"
   ]
  },
  {
   "attachments": {},
   "cell_type": "markdown",
   "metadata": {},
   "source": [
    "### sitio web"
   ]
  },
  {
   "attachments": {},
   "cell_type": "markdown",
   "metadata": {},
   "source": [
    "- website es una colección de págins agrupadas e interconectadas en relación a un mismo tema \n",
    "\n",
    "- por ejemplo Wikipedia\n",
    "\n"
   ]
  },
  {
   "attachments": {},
   "cell_type": "markdown",
   "metadata": {},
   "source": [
    "## Contenido y formato e una página web"
   ]
  },
  {
   "attachments": {},
   "cell_type": "markdown",
   "metadata": {},
   "source": [
    "1. contenido \n",
    "    su información :\n",
    "    - Texto\n",
    "    - Imágenes\n",
    "    - Videos\n",
    "2. Formato\n",
    "    Estilo en que se expresa esta información.\n",
    "    - colores\n",
    "    - Tamaño\n",
    "    - Tipo de letra"
   ]
  },
  {
   "attachments": {},
   "cell_type": "markdown",
   "metadata": {},
   "source": [
    "## Etiqueta HEAD"
   ]
  },
  {
   "attachments": {},
   "cell_type": "markdown",
   "metadata": {},
   "source": [
    "### Título , codificación y metadatos"
   ]
  },
  {
   "attachments": {},
   "cell_type": "markdown",
   "metadata": {},
   "source": [
    "    <head></head>: Especifica el contenido que se le entregará al navegador.\n",
    "\n",
    "    <title>:el título\n",
    "\n",
    "    <meta charset=\"utf-8\">: La codificación\n",
    "\n",
    "    <link rel=\"shortcut icon\">: el favcon\n",
    "\n",
    "    <style> o <link rel=\"stylesheet\">: Los estilos.\n",
    "    <script>: los scripts. "
   ]
  },
  {
   "attachments": {},
   "cell_type": "markdown",
   "metadata": {},
   "source": [
    "### Título "
   ]
  },
  {
   "attachments": {},
   "cell_type": "markdown",
   "metadata": {},
   "source": [
    "- la etiqueta `<title></title>` muestra el título de la página en el tab, además, tiene atribuciones semánticas para el navegador. Posee la siguiente estructura:\n",
    "\n",
    "        <title>Toffy Caluga's WebSite</title>"
   ]
  },
  {
   "attachments": {},
   "cell_type": "markdown",
   "metadata": {},
   "source": [
    "- la etiqueta `<meta>` con el atributo `charset`,especifican la codificación de los caracteres del documento.\n",
    "\n",
    "- En este caso usaremos la utf-8 para poder codificar símbolos y caracteres latinos.\n",
    "\n",
    "- Si no la usamos, la letra como la \"Ñ\" y las letras con tilde no se codificarían bien."
   ]
  },
  {
   "attachments": {},
   "cell_type": "markdown",
   "metadata": {},
   "source": [
    "### Favicon"
   ]
  },
  {
   "attachments": {},
   "cell_type": "markdown",
   "metadata": {},
   "source": [
    "- Pequeña imagen asociada al sitio web que se muestra en la pestaña correspondiente.\n",
    "\n",
    "        <link rel=\"icon\" type=\"image/png\" href=\"/assets/favicon/icono.png\">"
   ]
  },
  {
   "attachments": {},
   "cell_type": "markdown",
   "metadata": {},
   "source": [
    "<img src=\"./img/favicon.jpg\" alt=\"ejemplo de favicon\" title=\"Ejemplo de favicon\">"
   ]
  },
  {
   "attachments": {},
   "cell_type": "markdown",
   "metadata": {},
   "source": [
    "### Párrafos"
   ]
  },
  {
   "attachments": {},
   "cell_type": "markdown",
   "metadata": {},
   "source": [
    "- se representa por el elemento `<p></p>`\n",
    "\n",
    "- Bloques de texto compuesto por una o más oraciones.\n",
    "\n",
    "- **Estructura:**\n",
    "\n",
    "        <p>Antiguamente la universidad era el único lugar de calidad para aprender a desarrollar tus talentos. Con eso bastaba. Hoy no es así, en realidad en la actualidad un título universitario es muy útil pero no determinante a la hora de conseguir un empleo. Esto es un efecto de la era digital</p>\n"
   ]
  },
  {
   "attachments": {},
   "cell_type": "markdown",
   "metadata": {},
   "source": [
    "### Encabezados o Headers"
   ]
  },
  {
   "attachments": {},
   "cell_type": "markdown",
   "metadata": {},
   "source": [
    "- Los encabezados son etiquetas que se escriben con la letra **h** y la sigue un número del 1 al 6:\n",
    "\n",
    "        <h1>,<h2>,<h3>,<h4>,<h5>,<h6>\n",
    "\n",
    "- La jerarquía de los encabezados se ve reflejado tanto en su estilo por defecto, como en su semantica.\n",
    "\n"
   ]
  },
  {
   "attachments": {},
   "cell_type": "markdown",
   "metadata": {},
   "source": [
    "### Imágenes\n"
   ]
  },
  {
   "attachments": {},
   "cell_type": "markdown",
   "metadata": {},
   "source": [
    "- La etiqueta `<img>` no tiene un cierre. Se utiliza solo la etiqueta y sus parámetros.\n",
    "\n",
    "        <img src='' alt=''>\n",
    "\n",
    "- podemos identificar, de momento , dos parámetros fundamentales.\n",
    "    - **src:** Archivo de origen(URL o ruta).\n",
    "    - **alt:** Texto alternativo.\n",
    "    "
   ]
  },
  {
   "attachments": {},
   "cell_type": "markdown",
   "metadata": {},
   "source": [
    "### Listas"
   ]
  },
  {
   "attachments": {},
   "cell_type": "markdown",
   "metadata": {},
   "source": [
    "- En HTML las listas se pueden utilizar para crear conjuntos de elementos en forma de listas precedidos por guión o número."
   ]
  },
  {
   "attachments": {},
   "cell_type": "markdown",
   "metadata": {},
   "source": [
    "- `<ul>`(unordered list): listado sin orden particular.\n",
    "\n",
    "- `<ol>`(ordered list): lista de elementos ordenados o enumerados.\n",
    "\n",
    "- `<li>`(list item):elemento de una lista"
   ]
  },
  {
   "attachments": {},
   "cell_type": "markdown",
   "metadata": {},
   "source": [
    "## Resumen\n"
   ]
  },
  {
   "attachments": {},
   "cell_type": "markdown",
   "metadata": {},
   "source": [
    "- Una página web es un documento que puede ser visto a través de un navegador como\n",
    "Firefox, Google Chrome o Safari.\n",
    "- Un sitio web (Website) es una colección de páginas (documentos), agrupadas e\n",
    "interconectadas en relación a un mismo tema.\n",
    "- La etiqueta <head></head>, la cual especifica el contenido que se le entregará al\n",
    "navegador y es necesaria para mostrar correctamente la página.\n",
    "- La etiqueta <body></body> contiene todos los elementos que se representan de forma\n",
    "visible al visitante de la página web."
   ]
  }
 ],
 "metadata": {
  "language_info": {
   "name": "python"
  },
  "orig_nbformat": 4
 },
 "nbformat": 4,
 "nbformat_minor": 2
}
