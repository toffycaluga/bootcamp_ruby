{
 "cells": [
  {
   "attachments": {},
   "cell_type": "markdown",
   "metadata": {},
   "source": [
    "# Bootstrap"
   ]
  },
  {
   "attachments": {},
   "cell_type": "markdown",
   "metadata": {},
   "source": [
    "## ¿Qué es bootstrap?"
   ]
  },
  {
   "attachments": {},
   "cell_type": "markdown",
   "metadata": {},
   "source": [
    "- Framweork CSS, desarollado y liberado por twitter, que sirve para maquetir páinas web de manera rápida y sencilla. es de código abierto, por lo que lo podemos usar de forma grtuita y sin restricciones.\n"
   ]
  },
  {
   "attachments": {},
   "cell_type": "markdown",
   "metadata": {},
   "source": [
    "**Características**\n",
    "- Fácil de integrar\n",
    "- Sistema de grillas\n",
    "- Estilos en la mayoría de los elementos HTML\n",
    "- una gran lista de componentes\n",
    "- Gran documentación."
   ]
  },
  {
   "attachments": {},
   "cell_type": "markdown",
   "metadata": {},
   "source": [
    "### integrando CDN de Bootstrap"
   ]
  },
  {
   "attachments": {},
   "cell_type": "markdown",
   "metadata": {},
   "source": [
    "- Una de las herramientas clave tanto para este paso como pra los siguientes, es conocer la documentación  de bootstrap.\n",
    "- Debemos agregar el recurso CSS de bootstrap en la etiqueta `<heah>`.\n",
    "\n",
    "        <link href=\"https://cdn.jsdelivr.net/npm/bootstrap@5.0.2/dist/css/bootstrap.min.css\" rel=\"stylesheet\" integrity=\"sha384-EVSTQN3/azprG1Anm3QDgpJLIm9Nao0Yz1ztcQTwFspd3yD65VohhpuuCOmLASjC\"crossorigin=\"anonymous\">\n",
    "\n"
   ]
  },
  {
   "attachments": {},
   "cell_type": "markdown",
   "metadata": {},
   "source": [
    "- Es importante el orden en que cargamos el recurso. En este caso , el css de Bootstrap debe estr al final de los otros recursos de estilo del programa."
   ]
  },
  {
   "attachments": {},
   "cell_type": "markdown",
   "metadata": {},
   "source": [
    "### Javascript\n"
   ]
  },
  {
   "attachments": {},
   "cell_type": "markdown",
   "metadata": {},
   "source": [
    "- Existe recursos \"bundle\" que contiene todo lo necesario para que funcionen los componentes de Bootstrap\n"
   ]
  },
  {
   "attachments": {},
   "cell_type": "markdown",
   "metadata": {},
   "source": [
    "    <script src=\"https://code.jquery.com/jquery-3.5.1.slim.min.js\"\n",
    "    integrity=\"sha384-DfXdz2htPH0lsSSs5nCTpuj/zy4C+OGpamoFVy38MVBnE+IbbVYUew+OrCXaRkfj\"\n",
    "    crossorigin=\"anonymous\"></script>\n",
    "    <script src=\"https://cdn.jsdelivr.net/npm/bootstrap@4.5.3/dist/js/bootstrap.bundle.min.js\"\n",
    "    integrity=\"sha384-ho+j7jyWK8fNQe+A12Hb8AhRq26LrZ/JpcUGGOn+Y7RsweNrtN/tE3MoK7ZeZDyx\"\n",
    "    crossorigin=\"anonymous\"></script>"
   ]
  },
  {
   "attachments": {},
   "cell_type": "markdown",
   "metadata": {},
   "source": [
    "- **Popper JS:** es una librería de JavaScript que permite añadir tooltips y popovers(recuadros de información que aparecen al posicionar el ratón sobre un elemento)en elementos HTML.\n",
    "- **Bootstrap JS:** es el código JavaScript necesario para el correcto funcionamiento de los componentes de Bootstrap."
   ]
  },
  {
   "attachments": {},
   "cell_type": "markdown",
   "metadata": {},
   "source": [
    "- Agregar Jquery, Popper.js y Bootstrap por separado. Estos scripts, deben ir antes del\n",
    "cierre de la etiqueta ``<body>`` y en ese orden, ya que va leyéndolos desde arriba hacia\n",
    "abajo."
   ]
  },
  {
   "attachments": {},
   "cell_type": "markdown",
   "metadata": {},
   "source": [
    "    <script src=\"https://code.jquery.com/jquery-3.5.1.slim.min.js\"integrity=\"sha384-DfXdz2htPH0lsSSs5nCTpuj/zy4C+OGpamoFVy38MVBnE+IbbVYUew+OrCXaRkfj\"crossorigin=\"anonymous\"></script>\n",
    "\n",
    "    <script src=\"https://cdn.jsdelivr.net/npm/popper.js@1.16.1/dist/umd/popper.min.js\"integrity=\"sha384-9/reFTGAW83EW2RDu2S0VKaIzap3H66lZH81PoYlFhbGU+6BZp6G7niu735Sk7lN\"crossorigin=\"anonymous\"></script>\n",
    "\n",
    "    <script src=\"https://cdn.jsdelivr.net/npm/bootstrap@4.5.3/dist/js/bootstrap.min.js\"integrity=\"sha384-w1Q4orYjBQndcko6MimVbzY0tgp4pWB4lZ7lr30WKz0vr/aWKhXdBNmNb5D92v7s\"crossorigin=\"anonymous\"></script>"
   ]
  },
  {
   "attachments": {},
   "cell_type": "markdown",
   "metadata": {},
   "source": [
    "## sistema de grillas de Bootstrap"
   ]
  },
  {
   "attachments": {},
   "cell_type": "markdown",
   "metadata": {},
   "source": [
    "- El sistema de grillas en Bootstrap es un modelo que divide el esquema de una página en 12 columnas iguales."
   ]
  },
  {
   "attachments": {},
   "cell_type": "markdown",
   "metadata": {},
   "source": [
    "- estas 12 columnas son un punto de partida, que permiten diagramar una página con contenedores que ocupen entre 1 y 12 columnas de ancho (100 %)"
   ]
  },
  {
   "attachments": {},
   "cell_type": "markdown",
   "metadata": {},
   "source": [
    "<img src=\"./../img/grillas.jpg\">"
   ]
  },
  {
   "attachments": {},
   "cell_type": "markdown",
   "metadata": {},
   "source": [
    "un ejemplo de imagen seria: \n",
    "\n",
    "    <div class=\"col-12 col-sm-6 col-md-4 col-lg-3\">\n",
    "    <img src=\"ruta_imagen.extension\" alt=\"Texto alternativo\"\n",
    "    class=\"img-fluid\">\n",
    "    </div>"
   ]
  },
  {
   "attachments": {},
   "cell_type": "markdown",
   "metadata": {},
   "source": [
    "- `col-N` se refiere a dispositivos extra small(<576px>).\n",
    "- `col-sm-N` se refiere a dispositivos small(>=576px>).\n",
    "- `col-md-N` se refiere a dispositivos medium(>=768px>).\n",
    "- `col-lg-N` se refiere a dispositivos large(>=992px>).\n",
    "- `col-xl-N` se refiere a dispositivos extra large(>=1200px>)\n",
    "- `col-xxl-N` se refiere a dispositivos extra extra large(>=1400px>)"
   ]
  }
 ],
 "metadata": {
  "language_info": {
   "name": "python"
  },
  "orig_nbformat": 4
 },
 "nbformat": 4,
 "nbformat_minor": 2
}
