{
 "cells": [
  {
   "attachments": {},
   "cell_type": "markdown",
   "metadata": {},
   "source": [
    "# Orientación al perfil\n",
    "El portafolio de producto y herramientas"
   ]
  },
  {
   "attachments": {},
   "cell_type": "markdown",
   "metadata": {},
   "source": [
    "**Identificar las competencias y habilidades del perfil profesional junto al rol que poseen dentro del contexto de la industria TI así como la metodoloía de trabajo del curso para adquirirlas.**\n",
    "- Unidad 1:Orientación al perfil\n",
    "- Unidad 2:Metodología del curso"
   ]
  },
  {
   "attachments": {},
   "cell_type": "markdown",
   "metadata": {},
   "source": [
    "**¿Qué aprenderás en esta sesión?**\n",
    "- Reconocer la importancia de un portafolio de producto, así como sus características para la formación de una identidad profesional.\n",
    "- Identificar los productos que serán obtenidos en cada módulo, así como su contribución al portafolio de producto."
   ]
  },
  {
   "attachments": {},
   "cell_type": "markdown",
   "metadata": {},
   "source": [
    "## Portafolio de productos"
   ]
  },
  {
   "attachments": {},
   "cell_type": "markdown",
   "metadata": {},
   "source": [
    "### **¿Qué es?**"
   ]
  },
  {
   "attachments": {},
   "cell_type": "markdown",
   "metadata": {},
   "source": [
    "\n",
    "**El portafolio de producto**\n",
    "\n",
    "un portafolio es una `selección de productos ,servicios o proyectos donde se exhibe el proceso del trabajo realizado,` la forma de pensar del profesional y como se transforma una problemática en una solución."
   ]
  },
  {
   "attachments": {},
   "cell_type": "markdown",
   "metadata": {},
   "source": [
    "### **Importancia en la identidad profesional**"
   ]
  },
  {
   "attachments": {},
   "cell_type": "markdown",
   "metadata": {},
   "source": [
    "***El portafolio de producto***\n",
    "\n",
    "Tener un portafolio puede no ser un requisito indispensable para conseguir tu primer trabajo.Pero `te apalancará si no tienes experiencia,` ya que necesitarás demostrar  tu posible empleador lo que sabes hacer y qué aporte realizarás.\n",
    "\n"
   ]
  },
  {
   "attachments": {},
   "cell_type": "markdown",
   "metadata": {},
   "source": [
    "### **Ideas para tus proyectos**"
   ]
  },
  {
   "attachments": {},
   "cell_type": "markdown",
   "metadata": {},
   "source": [
    "**El portafolio de roducto**\n",
    "\n",
    "si aún no tienes nada creado, te enseñaremos 3 ideas para costruir hoy mismo:\n",
    "1. **Construye pequeños componentes:** Construye una página con HTML, CSS y Javascript con un header, pie de página, tbla de listado, formulario de contacto y una fich de productos/servicios que te destacarán.\n",
    "2. **Crear una página de aterrizaje:** Puedes obtener muchas ideas en `One page Love` o prantillas en `dribble.`\n",
    "3. **Publica tu portafolio:** Como desarrollador front-end te recomendamos que alojes tu código y portafolio en `GitHub`."
   ]
  },
  {
   "attachments": {},
   "cell_type": "markdown",
   "metadata": {},
   "source": [
    "## Contribución de cada módulo del curso al portfolio"
   ]
  },
  {
   "attachments": {},
   "cell_type": "markdown",
   "metadata": {},
   "source": [
    "### Módulo 2 \n",
    "**Fundamentos de desrrollo front-end**"
   ]
  },
  {
   "attachments": {},
   "cell_type": "markdown",
   "metadata": {},
   "source": [
    "Entrega las herramientas básicas para el desarrollo web en donde se aprenden los conceptos base de desarrollo, entornos y flujos de trabajo. Además, proporciona buenas prácticas de desarrollo web desde la construcción hasta la puesta en marcha."
   ]
  },
  {
   "attachments": {},
   "cell_type": "markdown",
   "metadata": {},
   "source": [
    "### Módulo 3\n",
    "**Fundamentos de bases de datos-relacionales**"
   ]
  },
  {
   "attachments": {},
   "cell_type": "markdown",
   "metadata": {},
   "source": [
    "Con este módulo podras identificar las características, rol y elementos fundamentales de una base de datos, además de utilizr un lenguaje estructurado de consultas SQL para la obtención de información. Conocera cómo maniular los datos DML para modificar información en una base de datos. Implementarás estructuras de datos relacionales utilizando lenguje DDL. Por último, podrás elaborar un modelo de datos de acuerdo a los estándares de modelamiento."
   ]
  },
  {
   "attachments": {},
   "cell_type": "markdown",
   "metadata": {},
   "source": [
    "### Módulo 4\n",
    "**Introducción a la rogramación con Ruby**\n"
   ]
  },
  {
   "attachments": {},
   "cell_type": "markdown",
   "metadata": {},
   "source": [
    "Este módulo entrega las herramientas y conocimientos básicos para resolver distintos tipos de programación Ruby, utilizando sentencias condicionales iterativas, arreglos, funciones, entre otros.\n",
    "Finalmente se abordarán qué son las `APIs` y para que nos sirven, que métodos puedes utilizar para solicitar información y como retorna esa información."
   ]
  },
  {
   "attachments": {},
   "cell_type": "markdown",
   "metadata": {},
   "source": [
    "### Módulo 5\n",
    "**Introducción aa desarrollo de aplicaciones con Ruby on Rails**"
   ]
  },
  {
   "attachments": {},
   "cell_type": "markdown",
   "metadata": {},
   "source": [
    "En este módulo aprenderás a aplicar procedimientos de creación de\n",
    "un proyecto nuevo en Ruby on Rails que incorpora las vistas y\n",
    "controladores utilizando la línea de comando, helpers y layouts.\n",
    "Además, aplicarás procedimientos de Integración de una plantilla\n",
    "dentro de un proyecto nuevo en Ruby On Rails para acelerar la\n",
    "construcción del proyecto. Construirás un aplicativo utilizando\n",
    "formularios para almacenar datos en una base de datos de acuerdo\n",
    "a los requerimientos de la organización. Aplicarás el procedimiento\n",
    "de despliegue de un aplicativo web Ruby on Rails utilizando Heroku\n",
    "para disponibilizarlo en internet. Por último, construirás una\n",
    "aplicación web que disponibiliza un servicio web utilizando la\n",
    "arquitectura Rest para la creación y modificación de recursos de\n",
    "una entidad acorde a un requerimiento especificado."
   ]
  },
  {
   "attachments": {},
   "cell_type": "markdown",
   "metadata": {},
   "source": [
    "### Módulo 6\n",
    "**Desarrollo de aplicciones con Ruby on Rails**"
   ]
  },
  {
   "attachments": {},
   "cell_type": "markdown",
   "metadata": {},
   "source": [
    "En este módulo, implementarás relaciones 1 a N en los\n",
    "modelos utilizando Ruby on Rails para satisfacer un\n",
    "requerimiento. Además de implementar mecanismos de\n",
    "autenticación y control de accesos en una aplicación\n",
    "web MVC utilizando Ruby on Rails de acuerdo a las\n",
    "buenas prácticas de la industria. Utilizarás relaciones N a\n",
    "N en los modelos usando Ruby on Rails para satisfacer\n",
    "un requerimiento. Configurarás un proyecto en Rails\n",
    "utilizando Amazon S3 para repositorio de archivos.\n",
    "Construirás pruebas unitarias y funcionales para verificar\n",
    "el correcto desempeño operativo de acuerdo a las\n",
    "buenas prácticas de la industria."
   ]
  },
  {
   "attachments": {},
   "cell_type": "markdown",
   "metadata": {},
   "source": [
    "### Módulo 7\n",
    "**Ideación y diseño del producto**"
   ]
  },
  {
   "attachments": {},
   "cell_type": "markdown",
   "metadata": {},
   "source": [
    "En este módulo aprenderás los conceptos\n",
    "fundamentales de la investigación UX, diseño centrado\n",
    "en usuarios, Design Thinking, además de conocer la\n",
    "importancia de este último en el diseño de productos.\n",
    "Conocerás el propósito de las diversas etapas del Design\n",
    "Thinking identificando sus principales técnicas. Aplicarás\n",
    "métodos y técnicas para el estructurado de información\n",
    "y contenido de acuerdo a los conceptos y buenas\n",
    "prácticas de la arquitectura de la información. Por último,\n",
    "elaborarás un prototipo de baja fidelidad de un sitio web,\n",
    "a partir de los resultados de una investigación."
   ]
  },
  {
   "attachments": {},
   "cell_type": "markdown",
   "metadata": {},
   "source": [
    "### Módulo 8\n",
    "**Introducción al Emprendimiento y Startups**"
   ]
  },
  {
   "attachments": {},
   "cell_type": "markdown",
   "metadata": {},
   "source": [
    "En este módulo aprenderás sobre los aspectos\n",
    "fundamentales de un emprendimiento de tipo startup en el\n",
    "contexto de la industria digital. Además, distinguirás los\n",
    "principales modelos de negocio asociados a productos\n",
    "digitales identificando los mecanismos de generación de\n",
    "ingreso. Utilizarás técnicas y herramientas para la\n",
    "formulación de una propuesta de valor y de un modelo de\n",
    "negocios para un emprendimiento de tipo startup. Aprenderás\n",
    "sobre la metodología Lean Startup y sus beneficios.\n",
    "Reconocerás los elementos fundamentales del flujo de caja\n",
    "para el análisis financiero y elaborarás un flujo de caja\n",
    "operacional. Por último, aprenderás sobre alternativas para el\n",
    "financiamiento de una idea de negocios\n"
   ]
  },
  {
   "attachments": {},
   "cell_type": "markdown",
   "metadata": {},
   "source": [
    "### Módulo 9\n",
    "**Desarrollo de portafolio de un producto digital**"
   ]
  },
  {
   "attachments": {},
   "cell_type": "markdown",
   "metadata": {},
   "source": [
    "Este módulo te permitirá reconocer las\n",
    "características fundamentales de un\n",
    "portafolio de productos digitales efectivo para\n",
    "potenciar el perfil profesional. Podrás elaborar\n",
    "un producto tecnológico para resolver una\n",
    "problemática real, además de implementar un\n",
    "portafolio de un producto digital utilizando las\n",
    "herramientas disponibles y las buenas\n",
    "prácticas de la industria."
   ]
  },
  {
   "attachments": {},
   "cell_type": "markdown",
   "metadata": {},
   "source": [
    "### Módulo 10\n",
    "**Desarrollo de empleabilidad en la industria digital**"
   ]
  },
  {
   "attachments": {},
   "cell_type": "markdown",
   "metadata": {},
   "source": [
    "Entrega las habilidades para una búsqueda laboral\n",
    "efectiva, a partir de los aspectos fundamentales de\n",
    "un proceso de selección, reconociendo las\n",
    "características de la industria TI y su mercado\n",
    "laboral. Podrás trabajar en la marca personal de cada\n",
    "perfil y en la ampliación de sus redes de contacto\n",
    "``(networking)``. Por último, desarrollarás habilidades\n",
    "relacionales a través de herramientas y estrategias\n",
    "que permitan fortalecer el autoconocimiento y\n",
    "autogestión."
   ]
  },
  {
   "attachments": {},
   "cell_type": "markdown",
   "metadata": {},
   "source": [
    "## Herramienta de coordinación y trabajo colaborativo"
   ]
  },
  {
   "attachments": {},
   "cell_type": "markdown",
   "metadata": {},
   "source": [
    "### Coordinación y trabajo colavorativo\n",
    "**Herramientas a ultilizar del Bootcamp**\n"
   ]
  },
  {
   "attachments": {},
   "cell_type": "markdown",
   "metadata": {},
   "source": [
    "- Slack\n",
    "- Trello\n",
    "- GitHub\n",
    "- Google Spreadsheet\n",
    "- Asana \n",
    "- Zoom \n",
    "- Meet\n"
   ]
  },
  {
   "attachments": {},
   "cell_type": "markdown",
   "metadata": {},
   "source": [
    "## instalar ubuntu"
   ]
  },
  {
   "attachments": {},
   "cell_type": "markdown",
   "metadata": {},
   "source": [
    "> wsl --install\n"
   ]
  },
  {
   "attachments": {},
   "cell_type": "markdown",
   "metadata": {},
   "source": [
    "**si necesitas instalar otra version de linux**"
   ]
  },
  {
   "attachments": {},
   "cell_type": "markdown",
   "metadata": {},
   "source": [
    ">wsl --install -d Ubuntu-20.04"
   ]
  },
  {
   "attachments": {},
   "cell_type": "markdown",
   "metadata": {},
   "source": [
    "**comprobando git**"
   ]
  },
  {
   "attachments": {},
   "cell_type": "markdown",
   "metadata": {},
   "source": [
    ">git --version\n"
   ]
  },
  {
   "attachments": {},
   "cell_type": "markdown",
   "metadata": {},
   "source": [
    "## Nota: la instalación de Ruby se posterga hasta cuando se vaya a utilizar Ruby, asi mismo, Rails se postergara la instalacion."
   ]
  },
  {
   "cell_type": "markdown",
   "metadata": {},
   "source": []
  }
 ],
 "metadata": {
  "language_info": {
   "name": "python"
  },
  "orig_nbformat": 4
 },
 "nbformat": 4,
 "nbformat_minor": 2
}
