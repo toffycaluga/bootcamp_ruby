{
 "cells": [
  {
   "attachments": {},
   "cell_type": "markdown",
   "metadata": {},
   "source": [
    "# Añaniendo css al proyecto"
   ]
  },
  {
   "attachments": {},
   "cell_type": "markdown",
   "metadata": {},
   "source": [
    "## color"
   ]
  },
  {
   "attachments": {},
   "cell_type": "markdown",
   "metadata": {},
   "source": [
    "### Palabras clave"
   ]
  },
  {
   "attachments": {},
   "cell_type": "markdown",
   "metadata": {},
   "source": [
    "- En css existen 17 palabras claves para referirse a los colores básicos. Las palabras se corresponden con el nombre en ingles de cada color"
   ]
  },
  {
   "attachments": {},
   "cell_type": "markdown",
   "metadata": {},
   "source": [
    "> p{color:red}"
   ]
  },
  {
   "attachments": {},
   "cell_type": "markdown",
   "metadata": {},
   "source": [
    "#### Colores del sistema\n",
    "- colores que muestra el sistema operativo del usuario"
   ]
  },
  {
   "attachments": {},
   "cell_type": "markdown",
   "metadata": {},
   "source": [
    "> p {color: windowText; background-color:Window}"
   ]
  },
  {
   "attachments": {},
   "cell_type": "markdown",
   "metadata": {},
   "source": [
    "#### RGB"
   ]
  },
  {
   "attachments": {},
   "cell_type": "markdown",
   "metadata": {},
   "source": [
    "- RGB hexadecimal\n",
    "    - consiste en definir un color indicando la cantidad de color rojo,verde y azul que se deben mezclar .\n",
    "    > p { color: #FF0000} <-Rojo \n",
    "- RGB numérico\n",
    "    - El color se define indicando sus tres componentes R(rojo),G(verde) y B(azul). Cada uno puede tomar un valor entre 0 y 255.\n",
    "    > p {color:rgb(255,0,0)}<-rojo\n",
    "- RGB porcentual\n",
    "    - Se toman los 3 componentes R,G y B. El valor mínimo (0) y el máximo (255) están expresadas en porcentaje.\n",
    "    > p { color: rgb(100%,0%,0%)} <-rojo"
   ]
  },
  {
   "attachments": {},
   "cell_type": "markdown",
   "metadata": {},
   "source": [
    "## Texto"
   ]
  },
  {
   "attachments": {},
   "cell_type": "markdown",
   "metadata": {},
   "source": [
    "### color"
   ]
  },
  {
   "attachments": {},
   "cell_type": "markdown",
   "metadata": {},
   "source": [
    "- Propiedad que define CSS relacionada con la tipografía, para establecer el color de la letra.\n",
    "- El color por defecto, en la mayoría de los navegadores es negro. Para establecer un estilo de color, lo haremos con el atributo color utilizando cualquiera de las formas vistas anteriormente.\n",
    "\n",
    "> p{color:#FFFFFF}<-blanco"
   ]
  },
  {
   "attachments": {},
   "cell_type": "markdown",
   "metadata": {},
   "source": [
    "### Tipografia"
   ]
  },
  {
   "attachments": {},
   "cell_type": "markdown",
   "metadata": {},
   "source": [
    "se especifica en 2 formas:\n",
    "- Mediante el nombre de una familia tipográfica.\n",
    "- Mediante el nombre genérico de una familia tipográfica.\n",
    "\n",
    "Se define con la propiedad **`font-family`**\n",
    "\n",
    "> p { font-family: Monserrat, Times New Roman, Fantasy;}"
   ]
  },
  {
   "attachments": {},
   "cell_type": "markdown",
   "metadata": {},
   "source": [
    "### tamaño de fuente"
   ]
  },
  {
   "attachments": {},
   "cell_type": "markdown",
   "metadata": {},
   "source": [
    "- **Tamaño**: Se define con la propiedad `font-size`.\n",
    "    - **em**: Unidad escalable y siempre depende de un elemento padre. Es recomendable usarla para:\n",
    "        Tamaños de fuente\n",
    "        -Saltos de línea\n",
    "        - Margen entre párrafos\n",
    "    - **rem**: Unidad escalable y siempre depende de un elemento padre.Es recomendable usarla para:\n",
    "        - Elemento del layout que tengan medida fija.\n",
    "- El grosor puede ser controlado por la propiedad `font-weight`.\n",
    "- El estilo por `font-style`\n",
    "- Pensemos en el grosor como que tan \"negrita\" queremos la fuente y el estilo, si es cursiva o no .\n",
    "        p  {\n",
    "           font-size:1em;\n",
    "           font-weight:300;\n",
    "           font-style:italic;  \n",
    "        }"
   ]
  },
  {
   "attachments": {},
   "cell_type": "markdown",
   "metadata": {},
   "source": [
    "### Alieación"
   ]
  },
  {
   "attachments": {},
   "cell_type": "markdown",
   "metadata": {},
   "source": [
    "- se define text-align y los valores permitidos :left,right,center y justify.\n",
    "- su sintaxis es la siuente:\n",
    "    p{ text-align: center}"
   ]
  },
  {
   "attachments": {},
   "cell_type": "markdown",
   "metadata": {},
   "source": [
    "## Fondo"
   ]
  },
  {
   "attachments": {},
   "cell_type": "markdown",
   "metadata": {},
   "source": [
    "### Propiedades de estilo de fondo."
   ]
  },
  {
   "attachments": {},
   "cell_type": "markdown",
   "metadata": {},
   "source": [
    "- **Background-color**: Permite fijar un color de fondo para el elemento.\n",
    "\n",
    "            body{\n",
    "                backround-color:#FFF000;<- amarillo\n",
    "            }\n",
    "\n",
    "- **background-image**: Permite establecer una imagen de fondo.\n",
    "\n",
    "            body{\n",
    "                backgound-image:url(\"imagen.jpg\");\n",
    "            }\n",
    "\n",
    "- **background-position**: Indica la posición del elemento en relación al fondo.\n",
    "\n",
    "            body{\n",
    "                background-position:center;<-Se posiciona en el centro\n",
    "            }\n",
    "\n",
    "- **background-repeat:** indica si la imagen, de no cubrir completamente el fondo, se repetirá o no y en qué posición.\n",
    "\n",
    "            body{\n",
    "                background-repeat:ro-repeat;<- no se repetira\n",
    "            }\n",
    "\n",
    "- **background-size**: define el tamaño de la imágen que se utilizará como fondo en el elemento aplicado.\n",
    "\n",
    "            body{\n",
    "                background-size:cover; <-la imagen se auto ajustará al espacio\n",
    "            }"
   ]
  }
 ],
 "metadata": {
  "language_info": {
   "name": "python"
  },
  "orig_nbformat": 4
 },
 "nbformat": 4,
 "nbformat_minor": 2
}
