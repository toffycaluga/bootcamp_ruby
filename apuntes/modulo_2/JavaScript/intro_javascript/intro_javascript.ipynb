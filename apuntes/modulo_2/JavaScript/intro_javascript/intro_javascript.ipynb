{
 "cells": [
  {
   "attachments": {},
   "cell_type": "markdown",
   "metadata": {},
   "source": [
    "# Introducción a JavaScript"
   ]
  },
  {
   "attachments": {},
   "cell_type": "markdown",
   "metadata": {},
   "source": [
    "## ¿Qué es JavaScript?"
   ]
  },
  {
   "attachments": {},
   "cell_type": "markdown",
   "metadata": {},
   "source": [
    "- JavaScript es un lenguaje mediante el cual se crean documentos que contienen instrucciones (scripts), que se ejecutan cuando se carga una página web(al leer la página) o cuando se produce un suceso determinado (eventos, como hacer click sobre un vínculo)."
   ]
  },
  {
   "attachments": {},
   "cell_type": "markdown",
   "metadata": {},
   "source": [
    "## Agregando JS "
   ]
  },
  {
   "attachments": {},
   "cell_type": "markdown",
   "metadata": {},
   "source": [
    "- Podemos escribir JavaScript en un archivo externo al HTML. Para vincularloa la etiqueta `<script>`\n",
    "}le debemos añadir el atributo src con el valor de la ruta del archivo."
   ]
  },
  {
   "attachments": {},
   "cell_type": "markdown",
   "metadata": {},
   "source": [
    "## Console.log\n"
   ]
  },
  {
   "attachments": {},
   "cell_type": "markdown",
   "metadata": {},
   "source": [
    "### Declaraciones y sintaxis"
   ]
  },
  {
   "attachments": {},
   "cell_type": "markdown",
   "metadata": {},
   "source": [
    "#### Declaraciones"
   ]
  },
  {
   "attachments": {},
   "cell_type": "markdown",
   "metadata": {},
   "source": [
    "- Un programa es una lista de \"instrucciones\" para ser \"ejecutadas\" por un computador.\n",
    "- En un lenguaje de programación, estas instrucciones de programación se denominan declaraciones.\n",
    "- Un script de JavaScript es una lista de declaraciones."
   ]
  },
  {
   "attachments": {},
   "cell_type": "markdown",
   "metadata": {},
   "source": [
    "- Las declaraciones de JavaScript se componen de:\n",
    "    - Valores\n",
    "    - Operadores\n",
    "    - Expresiones\n",
    "    - Palabras claves\n",
    "    - Comentarios"
   ]
  },
  {
   "attachments": {},
   "cell_type": "markdown",
   "metadata": {},
   "source": [
    "#### Sintaxis"
   ]
  },
  {
   "attachments": {},
   "cell_type": "markdown",
   "metadata": {},
   "source": [
    "- La sintaxis de JavaScript tiene sus propias reglas, pero dependerá del tipo de declaración que corresponda. Los punto y coma (;) sirven para separar las declaraciones de JavaScript. si bien ahora ya no son 100% obligatorios, nos atudarán a ordenar nuestro propio código y a evitar errores.\n",
    "- es importante tener en cuenta los siuientes puntos en JavaScript:\n",
    "    - Es sensible a las mayúsculas y minúsculas;\n",
    "    - No toma en cuenta los espacios en blanco ni los saltos de línea."
   ]
  },
  {
   "attachments": {},
   "cell_type": "markdown",
   "metadata": {},
   "source": [
    "#### valor"
   ]
  },
  {
   "attachments": {},
   "cell_type": "markdown",
   "metadata": {},
   "source": [
    "- **Literales:** Como se escriba, dependera del tipo de dato.\n",
    "- **Variables:** Se emplea para almacenar y hacer referencia a un valor."
   ]
  },
  {
   "attachments": {},
   "cell_type": "markdown",
   "metadata": {},
   "source": [
    "#### Operadores y expresiones"
   ]
  },
  {
   "attachments": {},
   "cell_type": "markdown",
   "metadata": {},
   "source": [
    "- **Operadores:** Son símbolos que ocupamos para interactuar con las variables.\n",
    "- veremos 3 tipos:\n",
    "    1. Operadores de asignación\n",
    "    2. Operadores aritméticos\n",
    "    3. Operadores de comparación\n",
    "- **Expresiones:** Cualquier unidad de código válida que se resuelve en un valor. Es una combinación de valores, variables y operadores, que computa un valor. El cómputo se llama evaluación."
   ]
  },
  {
   "attachments": {},
   "cell_type": "markdown",
   "metadata": {},
   "source": [
    "#### Palabras Claves y comentarios"
   ]
  },
  {
   "attachments": {},
   "cell_type": "markdown",
   "metadata": {},
   "source": [
    "- **Palabras claves:** Son identificadores que tienen un significado especial en JavaScript a menudo comienzan con una palabra clave para identificar la acción que se realizará.\n",
    "- **Ejemplo:** \n",
    "    - Abstract\n",
    "    - Arguments\n",
    "    - Boolean\n",
    "    - Continue"
   ]
  },
  {
   "attachments": {},
   "cell_type": "markdown",
   "metadata": {},
   "source": [
    "- **Comentarios:**\n",
    "    - No todas las declaraciones de JavaScript son \"ejecutadas\";\n",
    "    - El código después de // o entre /* y */ se trata como un comentario;\n",
    "    - Los comentarios son inorados , y no seran ejecutados;\n",
    "    - Los comentarios son muy útiles para documentar el código."
   ]
  }
 ],
 "metadata": {
  "kernelspec": {
   "display_name": "Python 3",
   "language": "python",
   "name": "python3"
  },
  "language_info": {
   "codemirror_mode": {
    "name": "ipython",
    "version": 3
   },
   "file_extension": ".py",
   "mimetype": "text/x-python",
   "name": "python",
   "nbconvert_exporter": "python",
   "pygments_lexer": "ipython3",
   "version": "3.11.2"
  },
  "orig_nbformat": 4
 },
 "nbformat": 4,
 "nbformat_minor": 2
}
