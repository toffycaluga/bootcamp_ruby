{
 "cells": [
  {
   "attachments": {},
   "cell_type": "markdown",
   "metadata": {},
   "source": [
    "# Habilidades utilizadas en este bootcamp"
   ]
  },
  {
   "attachments": {},
   "cell_type": "markdown",
   "metadata": {},
   "source": [
    "## Trabajo en equipo"
   ]
  },
  {
   "attachments": {},
   "cell_type": "markdown",
   "metadata": {},
   "source": [
    "### Importancia"
   ]
  },
  {
   "attachments": {},
   "cell_type": "markdown",
   "metadata": {},
   "source": [
    "`El rabajo en equipo` es una evolución cualitativa de los grupos de trabajo, donde a través de una manera ordenada de trabajar, las personas colaboran en conjunto para alcanzar metas comunes."
   ]
  },
  {
   "attachments": {},
   "cell_type": "markdown",
   "metadata": {},
   "source": [
    "El trabajo en equipo trae consigo múltiples beneficios, vemaos algunos de ellos:"
   ]
  },
  {
   "attachments": {},
   "cell_type": "markdown",
   "metadata": {},
   "source": [
    "    Crea Sinergias->Fortalece al euipo ante el cambio->Establece estructuras más flexibles y participativas->Refuerza la responsabilidad->meta"
   ]
  },
  {
   "attachments": {},
   "cell_type": "markdown",
   "metadata": {},
   "source": [
    "### Buenas prácticas"
   ]
  },
  {
   "attachments": {},
   "cell_type": "markdown",
   "metadata": {},
   "source": [
    "El trabajo en equipo `se establece por una necesidad, además de esperar producir mejores resultados,` algunas buenas prácticas del trabajo en equipo son las siguientes:"
   ]
  },
  {
   "attachments": {},
   "cell_type": "markdown",
   "metadata": {},
   "source": [
    "- Establecer metas claras y comprensibles para todos los miembros.\n",
    "- Conformar el equipo por sujetos competentes.\n",
    "- Construir y conservar confianza recíproca entre los miembros.\n",
    "- Estimular una buena comunicación interna.\n",
    "- Ofrecer un clima laboral de apoyo en toda la organización."
   ]
  },
  {
   "attachments": {},
   "cell_type": "markdown",
   "metadata": {},
   "source": [
    "### Organización "
   ]
  },
  {
   "attachments": {},
   "cell_type": "markdown",
   "metadata": {},
   "source": [
    "- Todo equipo necesita un Líder.\n",
    "- Deben existir equipos multidisciplinares y con roles muy bien definidos.\n",
    "- La estión eficaz de los recursos disponibles es vital para trabajar.\n",
    "- Se debe promover la colaboración entre los equipos y no incentivar la competencia.\n",
    "- Promover el respeto de fechas de entrega y cumplimiento de plazos.\n"
   ]
  },
  {
   "attachments": {},
   "cell_type": "markdown",
   "metadata": {},
   "source": [
    "## Auto aprendizaje"
   ]
  },
  {
   "attachments": {},
   "cell_type": "markdown",
   "metadata": {},
   "source": [
    "### importancia"
   ]
  },
  {
   "attachments": {},
   "cell_type": "markdown",
   "metadata": {},
   "source": [
    "Cuando hablamos de `autoaprendizaje` nos referimos a la capacidad autodidacta de aprender, es decir, `uno mismo aprende con las estrategias que más hacen sentido o se nos facilitan` para adquirir conocimientos que se consideran relevantes."
   ]
  },
  {
   "attachments": {},
   "cell_type": "markdown",
   "metadata": {},
   "source": [
    "### Desarrollar la capacidad "
   ]
  },
  {
   "attachments": {},
   "cell_type": "markdown",
   "metadata": {},
   "source": [
    "1. Diciplina \n",
    "    - Generar una discuplina nos ayudará a mantener la mente en el objetivo que queremos lograr.\n",
    "2. Utiliza tus habilidades\n",
    "    - Trabaja en tus fortalezas y aplicas en tu forma de aprendizaje, de esta forma pulir y facilitar el proceso.\n",
    "3. Práctica\n",
    "    - Es fundamental que cada vez que aprendas nuevo conocimientos, los practiques, eso te permitirá saber si comprendiste lo estudiado.\n",
    "4. Valora tus logros\n",
    "    - Disfruta del logro y esfuerzo que entregaste para aprender algo nuevo.\n",
    "5. Ve con cautela\n",
    "    - Con el tiempo el autoaprendizaje puede ser mucho más facil, pero deber ser riguroso con tus formas de estudio y como lo pones en práctica."
   ]
  },
  {
   "attachments": {},
   "cell_type": "markdown",
   "metadata": {},
   "source": [
    "### Organización de la información"
   ]
  },
  {
   "attachments": {},
   "cell_type": "markdown",
   "metadata": {},
   "source": [
    "tips para que puedas trabajar el autoaprendizaje cuando estudias:\n",
    "- **Paráfrasis:** Cada cierta cantidad de líneas o párrafos leídos, escribo lo que entendiste del texto, pero con tus palabras.\n",
    "- **Resumen:** Al finalizar un capítulo, resume las principales ideas.\n",
    "- **Mapas conceptuales o esquemas**: Organiza gráficamente las ideas principales de lo que has leído.\n",
    "- **Ejemplos:** Busca ejemplos practicos de los que has estudiado, los vídeos te servirán mucho para esta forma de aprendizaje."
   ]
  },
  {
   "attachments": {},
   "cell_type": "markdown",
   "metadata": {},
   "source": [
    "## Tolerancia a la frustración"
   ]
  },
  {
   "attachments": {},
   "cell_type": "markdown",
   "metadata": {},
   "source": [
    "Hay que ser `capaz de afrontar los problemas, limitacione , molestisas o incomodidades que nos encontramos a lo largo de la vida.0` no es lo que llega, si no como mlo afrontas , todo es cuestion de actitud."
   ]
  },
  {
   "attachments": {},
   "cell_type": "markdown",
   "metadata": {},
   "source": [
    "aprender a programar requiere mucho esfuerzo y al estar empezando, uno se encontrara con varios obstáculos , arrojando así un mayor nivel de frustración."
   ]
  },
  {
   "attachments": {},
   "cell_type": "markdown",
   "metadata": {},
   "source": [
    "Tolerancia a la frustracion:\n",
    "- Reconoce cuando te sientas Frustrado.\n",
    "- Confía en tu potencial\n",
    "- Conoce tus limitaciones.\n",
    "- No tomes nada personal.\n",
    "- Ajusta tu estrategia."
   ]
  },
  {
   "attachments": {},
   "cell_type": "markdown",
   "metadata": {},
   "source": [
    "## Comportamiento ético\n"
   ]
  },
  {
   "attachments": {},
   "cell_type": "markdown",
   "metadata": {},
   "source": [
    "La ética tecnologica involucra muchas decisiones estratégicas, `como inversión en recursos humanos, modernización, desarrollo y servicio de producctos.`\n",
    "En la industria TI, las `amenazas y oportunidades ` pueden afectar de manera significativa el desempeño, caracterizándose por su singularidad, complejidad y velocidad."
   ]
  },
  {
   "attachments": {},
   "cell_type": "markdown",
   "metadata": {},
   "source": [
    "### Código del curso"
   ]
  },
  {
   "attachments": {},
   "cell_type": "markdown",
   "metadata": {},
   "source": [
    "Este curso cuenta con algunos códigos éticos que debes tener en cuenta en tu sala de clases, vamos a revisarlos para asi tenerlos siempre presente:\n",
    "\n",
    "los estudiantes deben:\n",
    "- Respetar a cualquier miembro de la Comunidad.\n",
    "- Dar un trato cuidadoso a lo que necesitas para poder estudiar(computadora y tu entorno).\n",
    "- Manifestar un comportamiento y desempeño ético en el desarrollo e sus actividades académicas y estudiantiles."
   ]
  },
  {
   "attachments": {},
   "cell_type": "markdown",
   "metadata": {},
   "source": [
    "los estudianes no deben:\n",
    "- copiar desafios, prueba, proyectos o cualquier sistema o instrumento de evaluación. Se considerá igual de grave el copiar que el permitir que le copien.\n",
    "- Presentar conflicto con la realización de actividades con los objetivos generales del establecimiento educiativo.\n",
    "- Existir falsificación, corrección , enmienda, adición o cualquier otro tipo de adulteración de certificación y documentación general expedida por el establecimiento educativo."
   ]
  },
  {
   "cell_type": "markdown",
   "metadata": {},
   "source": []
  }
 ],
 "metadata": {
  "language_info": {
   "name": "python"
  },
  "orig_nbformat": 4
 },
 "nbformat": 4,
 "nbformat_minor": 2
}
