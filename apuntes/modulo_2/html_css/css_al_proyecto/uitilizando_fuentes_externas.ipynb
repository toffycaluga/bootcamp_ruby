{
 "cells": [
  {
   "attachments": {},
   "cell_type": "markdown",
   "metadata": {},
   "source": [
    "# Utilizando fuentes externas"
   ]
  },
  {
   "attachments": {},
   "cell_type": "markdown",
   "metadata": {},
   "source": [
    "## Tipografás, peso tipográfico y tamaños de fuente"
   ]
  },
  {
   "attachments": {},
   "cell_type": "markdown",
   "metadata": {},
   "source": [
    "### Css Web Safe Font"
   ]
  },
  {
   "attachments": {},
   "cell_type": "markdown",
   "metadata": {},
   "source": [
    "- son tipografías que se ueden llamar libremente con CSS\n",
    "- Servirán en cualquier navegador, debido a que son estándar y estan incluidas en casi todos los sistemas operativos."
   ]
  },
  {
   "attachments": {},
   "cell_type": "markdown",
   "metadata": {},
   "source": [
    "### Utilizar Google Fonts"
   ]
  },
  {
   "attachments": {},
   "cell_type": "markdown",
   "metadata": {},
   "source": [
    "- **paso 1:** Ingresamos a Google Fonts\n",
    "- **paso 2:** Buscamos la tipografia de nuestros sitios.\n",
    "- **paso 3:** Una vez encontrada presionamos para entrar a la fuente y veremos un botón a la derecha que dice **Select this style**, presionamos y a la derecha veremos un menú que nos irá mostrando\n",
    "las fuentes que hemos seleccionado y sus variantes.\n",
    "- **paso 4:** Con los estilos seleccionados, podremos acceder a la etiqueta link con la fuente que nos integrará estos estilos a nuestro sitio web, así como también el valor de la propiedad font-family.\n",
    "- **paso 5:**Copiamos el código que entrega Google y lo pegamos dentro de la etiqueta head.\n",
    "\n",
    "        <head>\n",
    "            <link rel=\"stylesheet\" href=\"https://fonts.googleapis.com/css?family=Open+Sans:400,700,800\">\n",
    "        </head>\n",
    "\n",
    "- **paso 6:** Para utilizar la tipografía donde corresponda .\n",
    "\n",
    "        body{\n",
    "            text-align:center;\n",
    "            color: #000f08;\n",
    "            margin:0;\n",
    "            font-family: 'Open Sans', sans-serif;\n",
    "        }"
   ]
  },
  {
   "attachments": {},
   "cell_type": "markdown",
   "metadata": {},
   "source": [
    "### Position"
   ]
  },
  {
   "attachments": {},
   "cell_type": "markdown",
   "metadata": {},
   "source": [
    "**En muchos sitios el menú nos sigue mientras hacemos scroll.**\n",
    "Esta propiedad es `position`; especifica el tipo de método de posicionamiento utilizado para un elemento.\n",
    "- Los valoes pueden ser: `static, relative, absolute, fixed o sticky`.\n",
    "- Por defecto, los elementos son **`static`**, o sea, no se posiciona de ninguna manera especial.\n",
    "\n",
    "`z-index`:Define cómo se apilan los elementos."
   ]
  },
  {
   "attachments": {},
   "cell_type": "markdown",
   "metadata": {},
   "source": [
    "## SVG y Font Awesome"
   ]
  },
  {
   "attachments": {},
   "cell_type": "markdown",
   "metadata": {},
   "source": [
    "### SVG"
   ]
  },
  {
   "attachments": {},
   "cell_type": "markdown",
   "metadata": {},
   "source": [
    "-  es un lenguaje basado en XML para describir imágenes vectoriales.\n",
    "- Podemos controlar el contenido SVG con CSS, desde nuestro propio `style.css`"
   ]
  },
  {
   "attachments": {},
   "cell_type": "markdown",
   "metadata": {},
   "source": [
    "### Font Awesome"
   ]
  },
  {
   "attachments": {},
   "cell_type": "markdown",
   "metadata": {},
   "source": [
    "Nos permite agregar iconos a nuestra página web.\n",
    "- Los elementos `<i>` y `<span>` se usan ampliamente para los iconos.\n",
    "- "
   ]
  },
  {
   "cell_type": "markdown",
   "metadata": {},
   "source": []
  }
 ],
 "metadata": {
  "language_info": {
   "name": "python"
  },
  "orig_nbformat": 4
 },
 "nbformat": 4,
 "nbformat_minor": 2
}
