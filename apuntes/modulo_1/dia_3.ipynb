{
 "cells": [
  {
   "attachments": {},
   "cell_type": "markdown",
   "metadata": {},
   "source": [
    "# Metodología del curso"
   ]
  },
  {
   "attachments": {},
   "cell_type": "markdown",
   "metadata": {},
   "source": [
    "Comprender la metodologia e trabajo a lo largo del curso distinguiendo la importancia del trabajo en equipo y el trabajo ético para contribuir al loro de las competencias del plan formativo."
   ]
  },
  {
   "attachments": {},
   "cell_type": "markdown",
   "metadata": {},
   "source": [
    "**¿Qué aprenderas en esta sesión?**"
   ]
  },
  {
   "attachments": {},
   "cell_type": "markdown",
   "metadata": {},
   "source": [
    "- describir los principales elementos de la metodología bootcamp para el desarrollo de competencias en el área tecnológica."
   ]
  },
  {
   "attachments": {},
   "cell_type": "markdown",
   "metadata": {},
   "source": [
    "## Qué es un bootcamp y cúal es su origen"
   ]
  },
  {
   "attachments": {},
   "cell_type": "markdown",
   "metadata": {},
   "source": [
    "### Modelo Bootcamp "
   ]
  },
  {
   "attachments": {},
   "cell_type": "markdown",
   "metadata": {},
   "source": [
    "- **¿Qué debe realizar el estudiante?**\n",
    "    ejecutar activamente tareas, acciones o actividades para dar cuenta de ciertos aprendizajes han sido lorados.\n",
    "- **¿Cuál es su proposito?**\n",
    "    Forma personas para el mundo laboral. Para lograrlo, la principal herramienta es el uso de la metodología activa.\n",
    "- **¿Qué es?**\n",
    "    Es un programa de capacitacion que busca que un estudiante desarrolle competencias en un área específica, para entrar al mercado laboral en el menor tiempo posible."
   ]
  },
  {
   "attachments": {},
   "cell_type": "markdown",
   "metadata": {},
   "source": [
    "#### Beneficios"
   ]
  },
  {
   "attachments": {},
   "cell_type": "markdown",
   "metadata": {},
   "source": [
    "**Foco -> Empleabilidad**\n",
    "- Formación en un corto éríodo de tiempo.\n",
    "- Desarrolla competencias específicas desde el primer día.\n",
    "- El estudiante es protagonista de su propio prendizaje."
   ]
  },
  {
   "attachments": {},
   "cell_type": "markdown",
   "metadata": {},
   "source": [
    "## El día a día en unbootcamp de programación "
   ]
  },
  {
   "attachments": {},
   "cell_type": "markdown",
   "metadata": {},
   "source": [
    "### Estructura metodológica \n",
    "**Para la internalización de contenidos**\n"
   ]
  },
  {
   "attachments": {},
   "cell_type": "markdown",
   "metadata": {},
   "source": [
    "El nombre de las sesiones depende de la modalidad, sin embargo las más comunes son:"
   ]
  },
  {
   "attachments": {},
   "cell_type": "markdown",
   "metadata": {},
   "source": [
    "        Sesion conceptual       sesion experimental\n",
    "         Clases          ->     Tutoría/Taller       -> Consolidación de aprendizaje"
   ]
  },
  {
   "attachments": {},
   "cell_type": "markdown",
   "metadata": {},
   "source": [
    "- **clases:** Sesión teórico práctica donde estudiarán los contenidos necesarios para que puedas resolver las actividades prácticas.\n",
    "- **Tutoría/Taller:** Sesión práctica donde se aplica lo aprendido en las clases a partir del trabajo principalmente colaborativo\n",
    "- **Consolidación de aprendizaje:** Reforzar temas vistos en ambas sesiones y mejorar/entregar Desafíos y Pruebas pendientes."
   ]
  },
  {
   "attachments": {},
   "cell_type": "markdown",
   "metadata": {},
   "source": [
    "### Recursos de aprendizaje\n",
    "**Material de estudio por unidad**"
   ]
  },
  {
   "attachments": {},
   "cell_type": "markdown",
   "metadata": {},
   "source": [
    "- **Glosario:** listado de palbras con su respectiva definición/descripción \n",
    "- **Referencias**\n",
    "- **Lectura(depende del programa):** Base del material académico para la preparación previa de los docentes para sus clases y el aprendizaje de los estudiantes.\n",
    "- **Video/Podcast(depende del Programa):** De apoyo al documento Lectura.\n",
    "- **Presentación:** Recurso base para la ejecución de las clases que marca la secuencia didáctica de la sesión sincrónica con el contenido y aprendizajes esperados.\n",
    "- **Guía:** El tipo de guía obedece al contenido de la unidad y esta puede ser una de las siguientes:\n",
    "    - *repaso de la clase*\n",
    "    - *repaso de la clase y contenido adicional de profundización :\n",
    "    - *ejercicios*\n",
    "    - *ejercicios y contenidos adicional de profundización*"
   ]
  },
  {
   "attachments": {},
   "cell_type": "markdown",
   "metadata": {},
   "source": [
    "### Recursos de aprendizaje\n",
    "**Evaluacione formativas y sumativas**"
   ]
  },
  {
   "attachments": {},
   "cell_type": "markdown",
   "metadata": {},
   "source": [
    "- **Quizzes**(desarrollo individual)\n",
    "    - Autoevaluación. Es un instrumento de evaluación que permite recoger evidencia del logro de un aprendizaje particular(depende del programa)\n",
    "- **Desafio**(desarrollo grupal/individual)\n",
    "    - mide las competencias de la unidad (1~2 por unidad)\n",
    "- **Prueba**(desarrollo individual)\n",
    "    - Mide las competencias del módulo (1 por módulo)\n",
    "- **Proyecto**(desarrollo grupal)\n",
    "    - Mide las competencias de la carrera (1 por carrera -> depende del programa)"
   ]
  },
  {
   "attachments": {},
   "cell_type": "markdown",
   "metadata": {},
   "source": [
    "### inicio \n",
    "** El día a día en un bootcamp de programación**"
   ]
  },
  {
   "attachments": {},
   "cell_type": "markdown",
   "metadata": {},
   "source": [
    "1. Asistencia.\n",
    "2. Abrir los documentos necesarios para la clase.\n",
    "3. Revisar los objetivos de la clase de manera activa, generando un espacio para la interacción  y discusión del alcance.\n",
    "4. Guiarse por el itinerario con los tiempos asosiados para logra el objetivo.\n",
    "5. Activacion de conceptos de manera efectiva, conectado con los objetivos de la clase resaltando los elementos iportantes a cubrir."
   ]
  },
  {
   "attachments": {},
   "cell_type": "markdown",
   "metadata": {},
   "source": [
    "### Desarrollo\n",
    "**El día a día en un bootcamp de programación**"
   ]
  },
  {
   "attachments": {},
   "cell_type": "markdown",
   "metadata": {},
   "source": [
    "1. No olvidar: El estudiante es el protagonista.\n",
    "2. Utiliza los recursos de aprendizaje disponibles en el LMS de manera planificada de acuerdo al\n",
    "itinerario mencionado anteriormente.\n",
    "3. El docente explicará con certeza y seguridad los contenidos y sus relaciones, equilibrando la\n",
    "presión y flexibilidad hacia los estudiantes, motivando la importancia del cumplimiento y\n",
    "proactividad. No olvidar: Los estudiantes logran el aprendizaje mediante la práctica.\n",
    "4. Las instancias y actividades deben estar enfocadas en que los estudiantes recuerden aquellos\n",
    "elementos que son críticos para su aprendizaje.\n",
    "5. El estudiante debe relacionar en todo momento lo aprendido con su aplicación/uso en el mundo\n",
    "laboral."
   ]
  },
  {
   "attachments": {},
   "cell_type": "markdown",
   "metadata": {},
   "source": [
    "### Cierre\n",
    "**El día a día en un bootcamp de programación**\n"
   ]
  },
  {
   "attachments": {},
   "cell_type": "markdown",
   "metadata": {},
   "source": [
    "1. Cierre con el aprendizaje logrado, evidenciando el progreso de los estudiantes.\n",
    "2. Anuncia los objetivos de la siguiente clase(a nivel general)\n",
    "3. **No olvidar**: Los estudiantes deben retroalimentar al docente sobre cómo mejorar la clase."
   ]
  },
  {
   "attachments": {},
   "cell_type": "markdown",
   "metadata": {},
   "source": [
    "## Aprendizaje activo"
   ]
  },
  {
   "attachments": {},
   "cell_type": "markdown",
   "metadata": {},
   "source": [
    "para que cada estudiante logre desarrollar las `competencias necesarias` para desenvolverse adecuadamente en un ambiente laboral y en un contexto sociocultural, es necesario transitar desde una **enseñanza** centrada en la docente hacia una `centrada en el estudiante`"
   ]
  },
  {
   "attachments": {},
   "cell_type": "markdown",
   "metadata": {},
   "source": [
    "**Diferencias**"
   ]
  },
  {
   "attachments": {},
   "cell_type": "markdown",
   "metadata": {},
   "source": [
    "<table>\n",
    "    <tr>\n",
    "        <th>Aprendizaje centrado en los contenidos</th>\n",
    "        <th>Aprendizaje centrado en las actividades</th>\n",
    "    </tr>\n",
    "    <tr>\n",
    "        <td>El estudiante suele ser reactivo y pasivo a la entrega de la información.</td>\n",
    "        <td>Los estudiantes tienen una implicación activa y autorreflexiva en su aprendizaje.</td>\n",
    "    </tr>\n",
    "    <tr>\n",
    "        <td>El margen de decisión del estudiante es pequeño</td>\n",
    "        <td>Contribuyen a desarrollar el pensamiento crítico y toma decisiones.</td>\n",
    "    </tr>\n",
    "    <tr>\n",
    "        <td>Se fomenta un aprendizaje individual.</td>\n",
    "        <td>Enfatiza a desarrollar el pensamiento crítico  y toma decisiones.</td>\n",
    "    </tr>\n",
    "    <tr>\n",
    "        <td>Competencias memorísticas y replicación de la información.</td>\n",
    "        <td>Competencias enfocadas en la resolución de problemas, búsqueda y manejo de la información.</td>\n",
    "    </tr>\n",
    "    <tr>\n",
    "        <td>La información entregada generalmente se centra en contextos específicos.</td>\n",
    "        <td> Los estudiantes adquieren competencias genéricas y especifica para desenvolverse en el mundo laboral y en un contexto sociocultural determinado.</td>\n",
    "    </tr>\n",
    "</table>"
   ]
  },
  {
   "cell_type": "markdown",
   "metadata": {},
   "source": []
  }
 ],
 "metadata": {
  "language_info": {
   "name": "python"
  },
  "orig_nbformat": 4
 },
 "nbformat": 4,
 "nbformat_minor": 2
}
