{
 "cells": [
  {
   "attachments": {},
   "cell_type": "markdown",
   "metadata": {},
   "source": [
    "# Operaciones con JavaScript"
   ]
  },
  {
   "attachments": {},
   "cell_type": "markdown",
   "metadata": {},
   "source": [
    "## Tipos de datos y variables"
   ]
  },
  {
   "attachments": {},
   "cell_type": "markdown",
   "metadata": {},
   "source": [
    "### ¿Qué es una variable ?\n"
   ]
  },
  {
   "attachments": {},
   "cell_type": "markdown",
   "metadata": {},
   "source": [
    "*\"Las variables en los lenguajes de programación siguen una lógica similiar a las variables utilizadas en otros ámbitos como las matemáticas. Una variable es un elemento que se emplea para almacenar y hacer referencia a otro valor. Gracias a las variables es posible crear 'Programas genéricos', es decir, programas que funcionan siempre igual independientemente de los valores concretos utilizados\"*\n",
    "(Uniwebsidad, s.f.)"
   ]
  },
  {
   "attachments": {},
   "cell_type": "markdown",
   "metadata": {},
   "source": [
    "### Sintaxis de una variable"
   ]
  },
  {
   "attachments": {},
   "cell_type": "markdown",
   "metadata": {},
   "source": [
    "Se compone por la palabra reservada var, seguida del nombre o identificador de la variable, con un simbolo = para la asignación y finalmente su valor (como se escriba también dependera del tipo de dato).\n",
    "\n",
    "El identificador debe cuplir las siguientes normas:\n",
    "- Solo puede estar formado por letras, números y los símbolos $(dolar) y _(guión bajo);\n",
    "- El primer caracter no puede ser un número.\n",
    "- **Tipo de dato numérico(integer y float)**\n",
    "    > var entero = 10;\n",
    "    \n",
    "    > var decimal = 2.5;\n",
    "- **Tipo de dato cadena de texto(string)**\n",
    "    >var frase = \"hola ¿como estas?\n",
    "    \n",
    "    >var letra =\"d\""
   ]
  },
  {
   "attachments": {},
   "cell_type": "markdown",
   "metadata": {},
   "source": [
    "<table>\n",
    "    <tr>\n",
    "        <th>Si se quiere incluir ...</th>\n",
    "        <th>Se debe incluir ...</th>\n",
    "    </tr>\n",
    "    <tr>\n",
    "        <td>Un salto d elínea</td>\n",
    "        <td>\\n</td>\n",
    "    </tr>\n",
    "    <tr>\n",
    "        <td>Un tabulador</td>\n",
    "        <td>\\t</td>\n",
    "    </tr>\n",
    "    <tr>\n",
    "        <td>Una comilla simple</td>\n",
    "        <td>\\'</td>\n",
    "    </tr>\n",
    "    <tr>\n",
    "        <td>Una comilla doble</td>\n",
    "        <td>\\\"</td>\n",
    "    </tr>\n",
    "    <tr>\n",
    "        <td>Un backslash</td>\n",
    "        <td>\\\\</td>\n",
    "    </tr>\n",
    "</table>"
   ]
  },
  {
   "attachments": {},
   "cell_type": "markdown",
   "metadata": {},
   "source": [
    "- **Tipo de valor True o False (Boolean)**\n",
    "    Una variable de tipo boolean almacena un tipo especial de valor que solamente puede tomar dos valores: true(verdadero) o false (falso). No se puede utilizar para almacenar números y tampoco permite guardar cadenas de texto."
   ]
  },
  {
   "attachments": {},
   "cell_type": "markdown",
   "metadata": {},
   "source": [
    "## Operadores de asignacion"
   ]
  },
  {
   "attachments": {},
   "cell_type": "markdown",
   "metadata": {},
   "source": [
    "### ¿Qué son los operadores?"
   ]
  },
  {
   "attachments": {},
   "cell_type": "markdown",
   "metadata": {},
   "source": [
    "Los operadores permiten manipular el valor de las variables, realizar operaciones matemáticas con sus valores y comparar diferentes variables. De esta forma, los operadores permiten a los programas realizar cálculos complejos en función de las comparaciones y otros tipos de condiciones.\n",
    "1. Operadores de asignación;\n",
    "2. Operadores Aritméticos;\n",
    "3. Operadores de comparación."
   ]
  },
  {
   "attachments": {},
   "cell_type": "markdown",
   "metadata": {},
   "source": [
    "### Operadores de asignación"
   ]
  },
  {
   "attachments": {},
   "cell_type": "markdown",
   "metadata": {},
   "source": [
    "los operadores de asignación son muchos, existen de:\n",
    "- **Asignación básica**\n",
    "- Asignación de adicción\n",
    "- Asignación de sustracción\n",
    "- Asignación de multiplicación\n",
    "- Asignación de división\n",
    "- Asignación de resto\n",
    "- entre otros"
   ]
  },
  {
   "attachments": {},
   "cell_type": "markdown",
   "metadata": {},
   "source": [
    "### Asignación básica"
   ]
  },
  {
   "attachments": {},
   "cell_type": "markdown",
   "metadata": {},
   "source": [
    "1. asignamos el valor 2 a la variable valor1\n",
    "    >var valor1=2;\n",
    "2. asignamos el valor 5 a la variable valor2\n",
    "    >var valor2=5;\n",
    "3. asignamos el valor de valor2 a la variable valor 1\n",
    "    >valor1=valor2\n",
    "4. mostramos el valor de la variable valor1\n",
    "    > alert(valor1)"
   ]
  },
  {
   "attachments": {},
   "cell_type": "markdown",
   "metadata": {},
   "source": [
    "### Operadores aritmeticos"
   ]
  },
  {
   "attachments": {},
   "cell_type": "markdown",
   "metadata": {},
   "source": [
    "- son utilizados para realizar operaciones matemáticas"
   ]
  },
  {
   "attachments": {},
   "cell_type": "markdown",
   "metadata": {},
   "source": [
    "<table>\n",
    "    <tr>\n",
    "        <th>Operador</th>\n",
    "        <th>Operación</th>\n",
    "        <th>Sintaxis</th>\n",
    "    </tr>\n",
    "    <tr>\n",
    "        <td> + </td>\n",
    "        <td>Adición</td>\n",
    "        <td>var sumando1 = 5; var sumando2 = 4; var total_suma = sumando1 + sumando2</td>\n",
    "    </tr>\n",
    "    <tr>\n",
    "        <td> - </td>\n",
    "        <td>Sustracción</td>\n",
    "        <td>var minuendo = 6; var sustraendo = 3; var total_resta = minuendo - sustraendo;</td>\n",
    "    </tr>\n",
    "    <tr>\n",
    "        <td> * </td>\n",
    "        <td>Multiplicacción</td>\n",
    "        <td>var factor1 = 2; var factor2 = 6; var total_multi = factor1 * factor2;</td>\n",
    "    </tr>\n",
    "    <tr>\n",
    "        <td> / </td>\n",
    "        <td>División</td>\n",
    "        <td>var dividendo = 9; var divisor = 3; var total_divi = dividendo / divisor;</td>\n",
    "    </tr>\n",
    "    <tr>\n",
    "        <td> % </td>\n",
    "        <td>Módulo de division</td>\n",
    "        <td>var dividendo = 9; var divisor = 3; var total_modulo = dividendo % divisor;</td>\n",
    "    </tr>\n",
    "</table>"
   ]
  },
  {
   "attachments": {},
   "cell_type": "markdown",
   "metadata": {},
   "source": [
    "1. asignamos el valor 5 a la variable sumando1\n",
    "    >var sumando1=5;\n",
    "2. asignamos el valor 4 a la variable sumando2\n",
    "    >var sumando2=4;\n",
    "3. asignamos el valor de sumando1+sumando2 a la variable total_suma\n",
    "    > var total_suma=sumando1 + sumando2;\n",
    "4. con alert(), mostramos el contenido de total_suma.\n",
    "    > alert(total_suma);"
   ]
  },
  {
   "attachments": {},
   "cell_type": "markdown",
   "metadata": {},
   "source": [
    "- El operador `\"módulo` calcula el resto de la división entera de dos números. Cuando la división es exacta el módulo es `0`, pero cuando la división no es exacta arroja el número restante ."
   ]
  },
  {
   "attachments": {},
   "cell_type": "markdown",
   "metadata": {},
   "source": [
    "### Operadores de comparación"
   ]
  },
  {
   "attachments": {},
   "cell_type": "markdown",
   "metadata": {},
   "source": [
    "<table>\n",
    "    <tr>\n",
    "        <th>Operador</th>\n",
    "        <th>Significado</th>\n",
    "    </tr>\n",
    "    <tr>\n",
    "        <td> > </td>\n",
    "        <td>mayor que</td>\n",
    "    </tr>\n",
    "    <tr>\n",
    "        <td> < </td>\n",
    "        <td>menor que</td>\n",
    "    </tr>\n",
    "    <tr>\n",
    "        <td> == </td>\n",
    "        <td>igual que</td>\n",
    "    </tr>\n",
    "    <tr>\n",
    "        <td> != </td>\n",
    "        <td>distinto que</td>\n",
    "    </tr>\n",
    "    <tr>\n",
    "        <td> >= </td>\n",
    "        <td>mayor o igual que</td>\n",
    "    </tr>\n",
    "    <tr>\n",
    "        <td> <= </td>\n",
    "        <td>menor o igual que</td>\n",
    "    </tr>\n",
    "    <tr>\n",
    "        <td> === </td>\n",
    "        <td>identico que</td>\n",
    "    </tr>\n",
    "    <tr>\n",
    "        <td> !== </td>\n",
    "        <td>no idéntico que</td>\n",
    "    </tr>\n",
    "</table>"
   ]
  },
  {
   "attachments": {},
   "cell_type": "markdown",
   "metadata": {},
   "source": [
    "## Prompt"
   ]
  },
  {
   "attachments": {},
   "cell_type": "markdown",
   "metadata": {},
   "source": [
    "- La función prompt(), al igual que alert() es un método del objeto Windows, permite mostrar información por pantalla. Esta función se utiliza cuando el usuario ingresa datos por medio del teclado.\n",
    "- Su sintaxis es la siguiente:\n",
    "    > prompt(\"Texto descriptivo\",\"Texto por defecto\")"
   ]
  },
  {
   "attachments": {},
   "cell_type": "markdown",
   "metadata": {},
   "source": [
    "## document.write()"
   ]
  },
  {
   "attachments": {},
   "cell_type": "markdown",
   "metadata": {},
   "source": [
    "- esta función es un método del objeto **document** y lo que hace es escribir en la pagina el texto que se inglesa como parámetro.\n",
    "ejemplo:\n",
    "> var nombre=prompt(\"Ingrese su nombre\",\"\")\n",
    "\n",
    "> document.write(\"hola\"+nombre);"
   ]
  },
  {
   "attachments": {},
   "cell_type": "markdown",
   "metadata": {},
   "source": []
  }
 ],
 "metadata": {
  "language_info": {
   "name": "python"
  },
  "orig_nbformat": 4
 },
 "nbformat": 4,
 "nbformat_minor": 2
}
