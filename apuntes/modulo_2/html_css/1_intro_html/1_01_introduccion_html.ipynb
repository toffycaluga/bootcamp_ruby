{
 "cells": [
  {
   "attachments": {},
   "cell_type": "markdown",
   "metadata": {},
   "source": [
    "# Introcución a HTML"
   ]
  },
  {
   "attachments": {},
   "cell_type": "markdown",
   "metadata": {},
   "source": [
    "## ¿Que aprenderemos en este módulo?"
   ]
  },
  {
   "attachments": {},
   "cell_type": "markdown",
   "metadata": {},
   "source": [
    "- En este módulo ejncontraremos conceptos básicos para el desarrollo web o Front End, comenzaremos con conceptos base de desarrollo, entornos y flujos de trabajo. Además e conocer buenas practicas de desarrollo web desde producción hasta puesta en marcha."
   ]
  },
  {
   "attachments": {},
   "cell_type": "markdown",
   "metadata": {},
   "source": [
    "## ¿Qué aprendenderemos en esta sesión?\n"
   ]
  },
  {
   "attachments": {},
   "cell_type": "markdown",
   "metadata": {},
   "source": [
    "- Implementar la estructura assets del proyecto (img y archivos css), utilizando rutas locales absolutas y/o CDN, de acuerdo a las buenas prácticas de la industria."
   ]
  },
  {
   "attachments": {},
   "cell_type": "markdown",
   "metadata": {},
   "source": [
    "## ¿Qué es el desarrollo web?"
   ]
  },
  {
   "attachments": {},
   "cell_type": "markdown",
   "metadata": {},
   "source": [
    "- Es el proceso de construcción de aplicaciones o sitios web, y dentro de este superfluo concepto podemos encontrarnos con distintos roles que conforman el espectro moderno de desarrollo web."
   ]
  },
  {
   "attachments": {},
   "cell_type": "markdown",
   "metadata": {},
   "source": [
    "### diferencias entre Front-End, Back-End y Fullstack"
   ]
  },
  {
   "attachments": {},
   "cell_type": "markdown",
   "metadata": {},
   "source": [
    "- **Front-end developer:** Es quien se encarga de desarrollar la interfaz gráfica que interactúa con os usuarios de un sitio web. \n",
    "- **Back-End:** es responsable de implementar un sitio web o aplicación web y todos sus componentes, desarrollar la lógica y las soluciones para implementar correctamente las opetaciones necesarias del sitio web o aplicación web.\n",
    "- **FullStack:**es aquel que tiene conocimiento en todas las areas y coopera con la comunicación efectivaentre front y back"
   ]
  },
  {
   "attachments": {},
   "cell_type": "markdown",
   "metadata": {},
   "source": [
    "## ¿Qué es HTML?"
   ]
  },
  {
   "attachments": {},
   "cell_type": "markdown",
   "metadata": {},
   "source": [
    "Sigla que proviene del inglés ***HyperText Markup Language***, podemos traducir **HTML** como un lenguaje de marcas de hipertexto, que sirve para la elaboración de páginas web. "
   ]
  },
  {
   "attachments": {},
   "cell_type": "markdown",
   "metadata": {},
   "source": [
    "- **Estructura** \n",
    "    > `<p> Hola </p> <!-- esto es una etiqueta!-->`"
   ]
  },
  {
   "attachments": {},
   "cell_type": "markdown",
   "metadata": {},
   "source": [
    "### Estructura base de un documento HTML"
   ]
  },
  {
   "attachments": {},
   "cell_type": "markdown",
   "metadata": {},
   "source": [
    "La estructura básica de un archivo HTML consiste principalmente en :\n",
    "1. **Cabeza**(`<head>`).\n",
    "2. **Cuerpo**(`<body>`).\n",
    "\n",
    "ejemplo:\n",
    "    \n",
    "        <!DOCTYPE html>\n",
    "        <html>\n",
    "        <head>\n",
    "                <!-- Aquí va la información para el navegador -->\n",
    "        </head>\n",
    "        <body>\n",
    "                <!-- Aquí va el contenido para el usuario-->\n",
    "        </body>\n",
    "        </html>"
   ]
  },
  {
   "attachments": {},
   "cell_type": "markdown",
   "metadata": {},
   "source": [
    "### Etiquetas "
   ]
  },
  {
   "attachments": {},
   "cell_type": "markdown",
   "metadata": {},
   "source": [
    "- HTML se organiza en base a etiquetas, que son os elementos con los que puedes dar formato y estructura a un archivo HTML.\n",
    "- Por o general, la estructura, om sintaxis de una etiqueta es la siguiente:\n"
   ]
  },
  {
   "attachments": {},
   "cell_type": "markdown",
   "metadata": {},
   "source": [
    "<img src=\"./img/estructura_etiqueta.jpg\" title=\"estructura de la etiqueta\">"
   ]
  },
  {
   "attachments": {},
   "cell_type": "markdown",
   "metadata": {},
   "source": [
    "**nota:** para conocer mas sobre etiquetas entra [aqui](https://desarrolloweb.com/articulos/535.php)"
   ]
  },
  {
   "attachments": {},
   "cell_type": "markdown",
   "metadata": {},
   "source": [
    "    <div> Hola soy na etiqueta Div</div>\n",
    "    <button> Hola soy una etiqueta button</button>"
   ]
  },
  {
   "attachments": {},
   "cell_type": "markdown",
   "metadata": {},
   "source": [
    "- En este caso definiremos con un nombre \"div-container\" para así conocer este `<div>` por el nombre de su clase `(class)`"
   ]
  },
  {
   "attachments": {},
   "cell_type": "markdown",
   "metadata": {},
   "source": [
    "    <div class=\"div-container\">Hola soy una etiqueta Div </div>"
   ]
  },
  {
   "attachments": {},
   "cell_type": "markdown",
   "metadata": {},
   "source": [
    "- Podemos agregar más atributos como id, type, alt, src, entre otros."
   ]
  },
  {
   "attachments": {},
   "cell_type": "markdown",
   "metadata": {},
   "source": [
    "## Estructuras Assets"
   ]
  },
  {
   "attachments": {},
   "cell_type": "markdown",
   "metadata": {},
   "source": [
    "### Modelo de organización por tipo de archivo"
   ]
  },
  {
   "attachments": {},
   "cell_type": "markdown",
   "metadata": {},
   "source": [
    "Los archivos HTML se guargarán en el **directorio principal**, mientras que los recursos adicionales se almacenarán en subcarpetas dentro de una carpeta común llamada **assets**"
   ]
  },
  {
   "attachments": {},
   "cell_type": "markdown",
   "metadata": {},
   "source": [
    "***Assets*** corresponde entonces a una convención que indica dónde se deben almacenar los archivos adicionales de nuestro proyecto, como **Hojas de estilos (CSS)** ,**JavaScript(js)** o **Imagenes(img).**"
   ]
  },
  {
   "attachments": {},
   "cell_type": "markdown",
   "metadata": {},
   "source": [
    "<img src=\"./img/estructura_assets.jpg\" title=\"estructura de assets\">"
   ]
  },
  {
   "attachments": {},
   "cell_type": "markdown",
   "metadata": {},
   "source": [
    "- El editor de texto, que es un programa que se instala en el computador y que\n",
    "ocuparemos para escribir el lenguaje que luego interpretará el navegador.\n",
    "\n",
    "- HTML es un lenguaje de marcado que se utiliza para estructurar y escribir contenido, el\n",
    "cual luego es interpretado por un navegador web.\n",
    "\n",
    "- La estructura básica de un archivo HTML consiste en una cabeza ``(<head>)`` y un cuerpo\n",
    "``(<body>)``. El ``<head>`` contiene toda la información que es para el navegador y el ``<body>``\n",
    "contiene todo el contenido que es para el usuario.\n",
    "\n",
    "- La carpeta Assets indica dónde se deben almacenar los archivos adicionales de\n",
    "nuestro proyecto, como hojas de estilo (css), Javascript (js) o imágenes (img)."
   ]
  }
 ],
 "metadata": {
  "language_info": {
   "name": "python"
  },
  "orig_nbformat": 4
 },
 "nbformat": 4,
 "nbformat_minor": 2
}
