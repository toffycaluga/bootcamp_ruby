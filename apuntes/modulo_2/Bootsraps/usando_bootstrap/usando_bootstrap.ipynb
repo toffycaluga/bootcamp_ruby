{
 "cells": [
  {
   "attachments": {},
   "cell_type": "markdown",
   "metadata": {},
   "source": [
    "<link href=\"https://cdn.jsdelivr.net/npm/bootstrap@5.0.2/dist/css/bootstrap.min.css\" rel=\"stylesheet\"\n",
    "        integrity=\"sha384-EVSTQN3/azprG1Anm3QDgpJLIm9Nao0Yz1ztcQTwFspd3yD65VohhpuuCOmLASjC\" crossorigin=\"anonymous\">\n",
    "<link rel=\"stylesheet\" href=\"./assets/css/style.css\">\n"
   ]
  },
  {
   "attachments": {},
   "cell_type": "markdown",
   "metadata": {},
   "source": [
    "# Usando bootstrap para personalizar el proyecto"
   ]
  },
  {
   "attachments": {},
   "cell_type": "markdown",
   "metadata": {},
   "source": [
    "## Contenedores de Bootstrap"
   ]
  },
  {
   "attachments": {},
   "cell_type": "markdown",
   "metadata": {},
   "source": [
    "### Container"
   ]
  },
  {
   "attachments": {},
   "cell_type": "markdown",
   "metadata": {},
   "source": [
    "- Tienen un ancho fijo definido, el cual cambia a medida que cambia el tamaño del dispositivo(Diseño adptativo)"
   ]
  },
  {
   "attachments": {},
   "cell_type": "markdown",
   "metadata": {},
   "source": [
    "### Container-fluid"
   ]
  },
  {
   "attachments": {},
   "cell_type": "markdown",
   "metadata": {},
   "source": [
    "- Tiene un ancho de un 100%, esto quiere decir quen no esta limitado por un ancho específico, si no que tiene todo el ncho de apágina para funcionar.\n",
    "- Si queremos crear una sección que incluya un fondo con color, la mejor opción será una `container-fluid`, pues su ancho de 100% sin margen ayudará a que el fondo de color se vea de tamaño completo."
   ]
  },
  {
   "attachments": {},
   "cell_type": "markdown",
   "metadata": {},
   "source": [
    "## Modificadores de texto"
   ]
  },
  {
   "attachments": {},
   "cell_type": "markdown",
   "metadata": {},
   "source": [
    "- Para aprovechar Bootstrap al máximo, primero debemos buscar si lo que queremos hacer existe entre lo que ofrece, así que iremos a la [documentación](https://getbootstrap.com/docs/5.1/getting-started/introduction/) a buscar lo que necesitemos.\n",
    "- La documentación para las fuentes, imagen, tamaño y posición, las encontraremos en el apartado de [utilities](https://getbootstrap.com/docs/5.1/utilities/text/) de Bootstrap."
   ]
  },
  {
   "attachments": {},
   "cell_type": "markdown",
   "metadata": {},
   "source": [
    "### Color"
   ]
  },
  {
   "attachments": {},
   "cell_type": "markdown",
   "metadata": {},
   "source": [
    "- Comencemos por el color de la letra. Si buscamos \"colors\" en el buscador nos apareceran los [colores de bootstrap](https://getbootstrap.com/docs/5.1/utilities/colors/).\n"
   ]
  },
  {
   "attachments": {},
   "cell_type": "markdown",
   "metadata": {},
   "source": [
    "- `.text-primary`: el texto es de color azul.\n",
    "- `.text-secondary`: el texto es de color gris.\n",
    "- `.text-success`: el texto es de color verde.\n",
    "- `.text-danger`: el texto es de color rojo.\n",
    "- `.text-warning`: el texto es de color amarillo.\n",
    "- `.text-info`: el texto es de color celeste.\n",
    "- `.text-light`: el texto es de color gris claro.\n",
    "- `.text-dark`: el texto es de color negro.\n",
    "- `.text-body`: el texto es de color del body.\n",
    "- `.text-muted`: el texto muteado.\n",
    "- `.text-white`: el texto es de color blanco.\n",
    "- `.text-black-50`: el texto es de color negro con opacidad 50.\n",
    "- `.text-white-50`: el texto es de color blanco con opacidad 50.\n"
   ]
  },
  {
   "attachments": {},
   "cell_type": "markdown",
   "metadata": {},
   "source": [
    "### Opacidad"
   ]
  },
  {
   "attachments": {},
   "cell_type": "markdown",
   "metadata": {},
   "source": [
    "- `text-opacity-N` :puede variar entre 75,50 o 25%.esto es la visibilidad del texto.\n",
    "- `--bs-text-opacity:.5;`eso desde los estilos.\n"
   ]
  },
  {
   "attachments": {},
   "cell_type": "markdown",
   "metadata": {},
   "source": [
    "### Alineamiento de texto"
   ]
  },
  {
   "attachments": {},
   "cell_type": "markdown",
   "metadata": {},
   "source": [
    "- Para el alineamiento del texto haremos lo mismo, buscaremos en el buscador de Bootstrap [text-alignment](https://getbootstrap.com/docs/5.1/utilities/text/#text-alignment), que nos dará los distintos tipos de alineación."
   ]
  },
  {
   "attachments": {},
   "cell_type": "markdown",
   "metadata": {},
   "source": [
    "- `.text-start`:alinea el texto a la izquierda en cualquier tipo de pantalla.\n",
    "- `.text-center`:alinea el texto al centro en cualquier tipo de pantalla.\n",
    "- `.text-end`:alinea el texto a la derecha en cualquier tipo de pantalla"
   ]
  },
  {
   "attachments": {},
   "cell_type": "markdown",
   "metadata": {},
   "source": [
    "Ademas podemos establecer la alineacion dependiendo el dispositivo:"
   ]
  },
  {
   "attachments": {},
   "cell_type": "markdown",
   "metadata": {},
   "source": [
    "- `.text-sm-start`:alinea el texto a la izquierda en dispotivos de tamaño SM(pequeños).\n",
    "- `.text-md-start`:alinea el texto a la izquierda en dispotivos de tamaño MD(medianos).\n",
    "- `.text-ld-start`:alinea el texto a la izquierda en dispotivos de tamaño LG(largo).\n",
    "- `.text-sm-start`:alinea el texto a la izquierda en dispotivos de tamaño XL(extra-largo)."
   ]
  },
  {
   "attachments": {},
   "cell_type": "markdown",
   "metadata": {},
   "source": [
    "- `.text-wrap`: El texto se ajusta al contenedor en el que se encuentra.\n",
    "- `.text-nowrap`:El texto se desborda del contenedor donde se encuentra.\n"
   ]
  },
  {
   "attachments": {},
   "cell_type": "markdown",
   "metadata": {},
   "source": [
    "### Transformacion de texto"
   ]
  },
  {
   "attachments": {},
   "cell_type": "markdown",
   "metadata": {},
   "source": [
    "- `.text-lowercase` : deja el texto en minusculas.\n",
    "- `.text-uppercase` : deja el texto en mayusculas.\n",
    "- `.text-capitalize`: transforma el texto dejando las primeras letra de cada palabra en mayusculas.\n"
   ]
  },
  {
   "attachments": {},
   "cell_type": "markdown",
   "metadata": {},
   "source": [
    "### Tamaño de la fuente"
   ]
  },
  {
   "attachments": {},
   "cell_type": "markdown",
   "metadata": {},
   "source": [
    "- ``fs-N``: modifica l tamaño de la fuente , el fs viene desde `font-size`, N puede variar desde 1 hasta 6 , siendo 1 un numero mas grande y 6 el mas pequeño."
   ]
  },
  {
   "attachments": {},
   "cell_type": "markdown",
   "metadata": {},
   "source": [
    "Tambien podemos cambiar el peso de nuestra fuente con la clase `fw`\n"
   ]
  },
  {
   "attachments": {},
   "cell_type": "markdown",
   "metadata": {},
   "source": [
    "**nota:** el peso de la fuente se refiere a l grosor de esta ."
   ]
  },
  {
   "attachments": {},
   "cell_type": "markdown",
   "metadata": {},
   "source": [
    "- `fw-bold`: El texto se muestra en negrita.\n",
    "- `.fw-bolder`: El texto se muestra en negrita con respecto al elemento padre.\n",
    "- `.fw-normal`: texto con peso normal.\n",
    "- `.fw-light`: el texto queda con un peso ligero o en español.. mas delgada\n",
    "- `.fw-lighter`: El texto se muestramas delgado con respecto a el elemento padre.\n",
    "- `.fst-italic`: el texto en italic.\n",
    "- `.fst-normal`: texto con estilo de fuente normal."
   ]
  },
  {
   "attachments": {},
   "cell_type": "markdown",
   "metadata": {},
   "source": [
    "con la propiedad `.lh-*` podemos cambiar el espaciado entre las líneas del texto."
   ]
  },
  {
   "attachments": {},
   "cell_type": "markdown",
   "metadata": {},
   "source": [
    "- `.lh-1`: deja un espacio muy pequeño entre las lineas de texto.\n",
    "- `.lh-sm`: deja un espacio pequeño entre lineas de texto.\n",
    "- `.lh-base`: espaciado normal entre líneas\n",
    "- `.lh-lg`: un espaciado mayor entre líneas de texto."
   ]
  },
  {
   "attachments": {},
   "cell_type": "markdown",
   "metadata": {},
   "source": [
    "### Monospace"
   ]
  },
  {
   "attachments": {},
   "cell_type": "markdown",
   "metadata": {},
   "source": [
    "- `.font-monospace`: cambia la fuente a monospace."
   ]
  },
  {
   "attachments": {},
   "cell_type": "markdown",
   "metadata": {},
   "source": [
    "### Reset colors"
   ]
  },
  {
   "attachments": {},
   "cell_type": "markdown",
   "metadata": {},
   "source": [
    "restablece el color de un texto con `.text-reset`, para heredar el clor del padre"
   ]
  },
  {
   "attachments": {},
   "cell_type": "markdown",
   "metadata": {},
   "source": [
    "### Text decoration"
   ]
  },
  {
   "attachments": {},
   "cell_type": "markdown",
   "metadata": {},
   "source": [
    "- `.text-decoration-underline`:genera una línea bajo el texto.\n",
    "- `.text-decoration-line-through`:genera una línea en medio del texto.\n",
    "- `.text-decoration-none`:Elimina decoración de texto ejemplo en el caso de un a elimina la linea de abajo."
   ]
  },
  {
   "attachments": {},
   "cell_type": "markdown",
   "metadata": {},
   "source": [
    "### Margenes y padding"
   ]
  },
  {
   "attachments": {},
   "cell_type": "markdown",
   "metadata": {},
   "source": [
    "- para escribir una clase para margin se debe comenzar con la letra m y para escribir una clase padding se debe comenzar con la letra p.\n",
    "- Luego se debe aplicar otra letra que indica para que lado quieres aplicar:\n",
    "    - ``t``:para top.\n",
    "    - `b`:para bottom.\n",
    "    - `s`:para left o start.\n",
    "    - `e`:para right o end.\n",
    "    - `x`:para lo horizontal, o sea, left y right.\n",
    "    - `y`:para lo vertical, o sea, top y bottom.\n",
    "    - :sin especificar, para todos lados."
   ]
  },
  {
   "attachments": {},
   "cell_type": "markdown",
   "metadata": {},
   "source": [
    "- Luego, seguido de un - se debe asignar la cantidad de margen o padding (los tamaños va dede 0.25rem a 3rem):\n",
    "    -0 :elimina el margen o padding.\n",
    "    -1\n",
    "    -2\n",
    "    -3\n",
    "    -4\n",
    "    -5\n",
    "    -auto"
   ]
  },
  {
   "attachments": {},
   "cell_type": "markdown",
   "metadata": {},
   "source": [
    "## Componentes avanzados de bootstrap"
   ]
  },
  {
   "attachments": {},
   "cell_type": "markdown",
   "metadata": {},
   "source": [
    "- Para fijar el color de fondo de las distintas secciones, también podemos utilizar componentes Bootstrap, para conocerlos iremos a la documentacion y buscaremos por [background color](https://getbootstrap.com/docs/5.1/utilities/background/#background-color)"
   ]
  },
  {
   "attachments": {},
   "cell_type": "markdown",
   "metadata": {},
   "source": [
    "- `.bg-primary`: el background es de color azul.\n",
    "- `.bg-secondary`: el background es de color gris.\n",
    "- `.bg-success`: el background es de color verde.\n",
    "- `.bg-danger`: el background es de color rojo.\n",
    "- `.bg-warning`: el background es de color amarillo.\n",
    "- `.bg-info`: el background es de color celeste.\n",
    "- `.bg-light`: el background es de color gris claro.\n",
    "- `.bg-dark`: el background es de color negro.\n",
    "- `.bg-body`: el background es de color del body.\n",
    "- `.bg-muted`: el background muteado.\n",
    "- `.bg-white`: el background es de color blanco.\n",
    "- `.bg-transparent`: el background es transparente.\n"
   ]
  }
 ],
 "metadata": {
  "language_info": {
   "name": "python"
  },
  "orig_nbformat": 4
 },
 "nbformat": 4,
 "nbformat_minor": 2
}
