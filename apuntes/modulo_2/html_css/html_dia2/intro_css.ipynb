{
 "cells": [
  {
   "attachments": {},
   "cell_type": "markdown",
   "metadata": {},
   "source": [
    "# Css\n"
   ]
  },
  {
   "attachments": {},
   "cell_type": "markdown",
   "metadata": {},
   "source": [
    "## ¿Qué es CSS?"
   ]
  },
  {
   "attachments": {},
   "cell_type": "markdown",
   "metadata": {},
   "source": [
    "- CSS sirve para darle apariencia al contenido, colores, fuentees, tipografias,etc.\n",
    "- Significa \"Cascading Style Sheets\", que traducido es \"Hojas de estilo en cascada\""
   ]
  },
  {
   "attachments": {},
   "cell_type": "markdown",
   "metadata": {},
   "source": [
    "## Formas de añadir CSS"
   ]
  },
  {
   "attachments": {},
   "cell_type": "markdown",
   "metadata": {},
   "source": [
    "1. en línea en el HTML, añadiéndole el atributo style a las etiquetas.\n",
    "2. Añadiendo la etiqueta `<style>` en el head.\n",
    "3. A través de un archivo de tipo CSS, llamado desde el head.\n",
    "        <link rel=\"stylesheet\" href=\"assets/css/stule.css\">\n"
   ]
  },
  {
   "attachments": {},
   "cell_type": "markdown",
   "metadata": {},
   "source": [
    "## introducción a CSS"
   ]
  },
  {
   "attachments": {},
   "cell_type": "markdown",
   "metadata": {},
   "source": [
    "- Selector de etiqueta (body)\n",
    "- llaves curvas ({...})\n",
    "- una declaración (background:red;)\n",
    "*dentro del bloque de declaración puede haber más de una declaración. Estas se separan por un punto y coma."
   ]
  },
  {
   "cell_type": "markdown",
   "metadata": {},
   "source": []
  }
 ],
 "metadata": {
  "language_info": {
   "name": "python"
  },
  "orig_nbformat": 4
 },
 "nbformat": 4,
 "nbformat_minor": 2
}
