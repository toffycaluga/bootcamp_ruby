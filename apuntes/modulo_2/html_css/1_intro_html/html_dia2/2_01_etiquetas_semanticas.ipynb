{
 "cells": [
  {
   "attachments": {},
   "cell_type": "markdown",
   "metadata": {},
   "source": [
    "# Etiquetas semanticas "
   ]
  },
  {
   "attachments": {},
   "cell_type": "markdown",
   "metadata": {},
   "source": [
    "## Dividiendo nuestra página en secciones"
   ]
  },
  {
   "attachments": {},
   "cell_type": "markdown",
   "metadata": {},
   "source": [
    "    <header>\n",
    "    <nav>\n",
    "    <section>\n",
    "    <footer>"
   ]
  },
  {
   "attachments": {},
   "cell_type": "markdown",
   "metadata": {},
   "source": [
    "- header : se utiliza para la parte principal de pagina . su cabecera\n",
    "- nav :barra de navegación de un sitio\n",
    "- footer : representa el pie de página para el elemento principal. Generalmente contiene información sobre su sección como quién lo escribio, enlaces a documentos relacionados, datos de derechos de autos o similares."
   ]
  },
  {
   "cell_type": "markdown",
   "metadata": {},
   "source": []
  }
 ],
 "metadata": {
  "language_info": {
   "name": "python"
  },
  "orig_nbformat": 4
 },
 "nbformat": 4,
 "nbformat_minor": 2
}
