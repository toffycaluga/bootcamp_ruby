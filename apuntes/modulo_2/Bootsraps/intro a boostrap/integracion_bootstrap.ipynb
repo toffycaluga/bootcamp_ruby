{
 "cells": [
  {
   "attachments": {},
   "cell_type": "markdown",
   "metadata": {},
   "source": [
    "# Integrando bootstrap"
   ]
  },
  {
   "attachments": {},
   "cell_type": "markdown",
   "metadata": {},
   "source": [
    "## Mobile First"
   ]
  },
  {
   "attachments": {},
   "cell_type": "markdown",
   "metadata": {},
   "source": [
    "- mobile first es una filosofía de desarrollo que apunta a diseñar priotritariamente la visualización y estructura del sitio en dispositivos móviles. Luego de tener el diseño establecido para las pantallas reducidas, se irá esclanado hacia pantallas de mayor tamaño.\n"
   ]
  },
  {
   "attachments": {},
   "cell_type": "markdown",
   "metadata": {},
   "source": [
    "### ¿Cómo podemos comenzar a trabajar con mobile first?"
   ]
  },
  {
   "attachments": {},
   "cell_type": "markdown",
   "metadata": {},
   "source": [
    "- Debemos entender cómo trabajar con diferentes resoluciones de pantalla\n",
    "- Bootstrap contiene tamaños epecíficos para diferentes anchos de pantalla y ventanas de visualización.\n"
   ]
  },
  {
   "attachments": {},
   "cell_type": "markdown",
   "metadata": {},
   "source": [
    "### Trabajar usando características de los diseños responsivos"
   ]
  },
  {
   "attachments": {},
   "cell_type": "markdown",
   "metadata": {},
   "source": [
    "- **Usar la etiqueta meta viewport** \n",
    "Le da al navegador las instrucciones sobre cómo controlar las dimensiones y escala de la página. Esta se pone dentro de la etiqueta ``<head>``"
   ]
  },
  {
   "attachments": {},
   "cell_type": "markdown",
   "metadata": {},
   "source": [
    "    <meta name=\"viewport\" content=\"width=device-width, initial-scale=1.0\">"
   ]
  },
  {
   "attachments": {},
   "cell_type": "markdown",
   "metadata": {},
   "source": [
    "- `<width=device-width>:` Establece el ancho de la página para seguir el ancho de pantalla del dispositivo.\n",
    "- `<initial-scale=1.0>:`Establece el nivel de zoom inicial, cuando el navegador carga la página por primera vez."
   ]
  },
  {
   "attachments": {},
   "cell_type": "markdown",
   "metadata": {},
   "source": [
    "- **usar grillass**: Son un componente de estructura, que nos ayuda a disponer los elementos de una página web de forma óptima, sencilla y rápida.\n",
    "- **Usar imagenes** Deebemos usar unidades de medidas basadas en tamaños relativos al tamaño del dispositivo."
   ]
  },
  {
   "attachments": {},
   "cell_type": "markdown",
   "metadata": {},
   "source": [
    "### Considrar la experiencia que tendrá el usuario con la página web"
   ]
  },
  {
   "attachments": {},
   "cell_type": "markdown",
   "metadata": {},
   "source": [
    "- Reconocer como interatúa el usuario con nuestro sitio es esencial, ya que al saberlo podremos desarrollar una mejor experiencia al usar características específicas de un dispositivo en concreto."
   ]
  },
  {
   "attachments": {},
   "cell_type": "markdown",
   "metadata": {},
   "source": [
    "### Priorizar el contenido de la página web."
   ]
  },
  {
   "attachments": {},
   "cell_type": "markdown",
   "metadata": {},
   "source": [
    "- Debemos ser capaces de reconocer cuando es mejor mostrar o no un contenido, dependiendo de la resolucion de pantalla del dispositivo."
   ]
  },
  {
   "attachments": {},
   "cell_type": "markdown",
   "metadata": {},
   "source": [
    "## Componentes de Bootstrap"
   ]
  },
  {
   "attachments": {},
   "cell_type": "markdown",
   "metadata": {},
   "source": [
    "- existe una gran cantidad de componentes disponibles en la pagina oficial de bootstrap\n",
    "-  Para aprender aa utilizar los componentes de Bootstrap, utilizaremos el componente ``Navbar``. para utilizar este y cualquier otro componente, podemos consultar la documentacion y copiar el código donde queramos utiliarlo."
   ]
  },
  {
   "attachments": {},
   "cell_type": "markdown",
   "metadata": {},
   "source": [
    "### Dato importante"
   ]
  },
  {
   "attachments": {},
   "cell_type": "markdown",
   "metadata": {},
   "source": [
    "- Los componentes de bootstrap estam compuestos de clases que en conjunto colaboran para que el componente se muestre de la manera que se expone en su documentacion.\n",
    "- Cuando quieras modificar o personalizar los estilos de un componente debes poner mucha atencion en las clases involucradas y junto al inspector de elementos , detallar las propiedades de css que stan aplicando."
   ]
  }
 ],
 "metadata": {
  "language_info": {
   "name": "python"
  },
  "orig_nbformat": 4
 },
 "nbformat": 4,
 "nbformat_minor": 2
}
