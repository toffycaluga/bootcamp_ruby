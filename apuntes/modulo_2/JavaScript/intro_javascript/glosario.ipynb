{
 "cells": [
  {
   "attachments": {},
   "cell_type": "markdown",
   "metadata": {},
   "source": [
    "# Glosario - JavaScript"
   ]
  },
  {
   "attachments": {},
   "cell_type": "markdown",
   "metadata": {},
   "source": [
    "- **Debug:** En español, depuración, es el nombre que se le da al proceso de probar, identificar y corregir errores de programación.\n",
    "- **DOM:** Document Object Model(Modelo de Objetos del Documento) o lo que es lo mismo, la estructura del documento html. Facilita una representación estructurada del documento y define de qué manera los programa pueden acceder y modificar su estructura, estilo y contenido.\n",
    "- **Expresión:** Es una combinación de constantes, varibles o funciones, que es construida de a  cuerdo a la sintaxis del lenguaje que devuelve un valor.\n",
    "- **Lenuaje Interpretado:** Es el lenguaje cuyo código no necesita ser previamente procesado por un compilador, sino que es capaz de ser ejecutado directamente por un intérprete.\n",
    "- **Modal:** En Bootstrap, se refiere a unas capas ocultas en el código, que contiene la información a mostrar cuando las hacemos visibles mediante un enlace o botón.\n",
    "- **Operadores:** Son símbolos que indican cómo formar una expresión junto a estos. Aquella demostración en conjunto, es una fórmula que define el cálculo de un valor.\n",
    "- **Script:** El Script es un documento que contiene instrucciones, escritas en códigos de programación. En el caso de las páginas web, el script se ejecuta en la máquina del cliente cuando se carga el documento, o en algún otro instante, como por ejemplo cuando se activa un vínculo.\n",
    "- **Variable:** Es un elemento que se emplea para almacenar y hacer referencia a otro valor. Para un programa, las variables no son más que posiciones de memoria donde están guardados esos datos."
   ]
  }
 ],
 "metadata": {
  "language_info": {
   "name": "python"
  },
  "orig_nbformat": 4
 },
 "nbformat": 4,
 "nbformat_minor": 2
}
