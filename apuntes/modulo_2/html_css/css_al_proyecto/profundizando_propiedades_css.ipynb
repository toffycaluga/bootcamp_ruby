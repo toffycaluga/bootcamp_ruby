{
 "cells": [
  {
   "attachments": {},
   "cell_type": "markdown",
   "metadata": {},
   "source": [
    "# Profundizando las propiedades CSS"
   ]
  },
  {
   "attachments": {},
   "cell_type": "markdown",
   "metadata": {},
   "source": [
    "## Modelos de cajas\n"
   ]
  },
  {
   "attachments": {},
   "cell_type": "markdown",
   "metadata": {},
   "source": [
    "### ¿Que es?\n"
   ]
  },
  {
   "attachments": {},
   "cell_type": "markdown",
   "metadata": {},
   "source": [
    "- El modelo de cajas es uno de los conceptos más importntes detrás de CSS, y reponde a la pregunta de cúanto mide realmente cada elemento."
   ]
  },
  {
   "attachments": {},
   "cell_type": "markdown",
   "metadata": {},
   "source": [
    "<img src=\"./img/contenido.jpg\">"
   ]
  },
  {
   "attachments": {},
   "cell_type": "markdown",
   "metadata": {},
   "source": [
    "### Propiedades del modelo de cajas"
   ]
  },
  {
   "attachments": {},
   "cell_type": "markdown",
   "metadata": {},
   "source": [
    "- **Área de contedino:** Es lo que está comprendido dentro del elemento, como por ejemplo, textos e imágenes.\n",
    "- **Padding:** Se utiliza para generar espacio al rededor del contenido, dentro del borde del elemento. El padding es siempre transparente.\n",
    "- **Borde(Border):** Es lo que contiene y está alrededor del contenido + el padding.\n",
    "- **Margin:** Es espacio alrededor de los elementos, fuera de los bordes definidos. El margen es siempre transparente."
   ]
  },
  {
   "attachments": {},
   "cell_type": "markdown",
   "metadata": {},
   "source": [
    "<img src=\"./img/contenido_2.jpg\">"
   ]
  },
  {
   "attachments": {},
   "cell_type": "markdown",
   "metadata": {},
   "source": [
    "## Propiedad display"
   ]
  },
  {
   "attachments": {},
   "cell_type": "markdown",
   "metadata": {},
   "source": [
    "- Elementos block\n",
    "\n",
    "        <div>\n",
    "        <h1>-<h6>\n",
    "        <p>\n",
    "        <form>\n",
    "        <header>\n",
    "        <footer>\n",
    "        <section>\n",
    "\n",
    "- Elementos inline\n",
    "\n",
    "        <span>\n",
    "        <a>\n",
    "        <em>\n",
    "        <strong>\n",
    "\n",
    "- inline-block\n",
    "    - no agrega un salto de línea después del elemento\n",
    "    - Permite establecer un ancho (width) y una altura (height)\n",
    "    del elemento"
   ]
  },
  {
   "attachments": {},
   "cell_type": "markdown",
   "metadata": {},
   "source": [
    "## Width y Height"
   ]
  },
  {
   "attachments": {},
   "cell_type": "markdown",
   "metadata": {},
   "source": [
    "### Unidades de medida"
   ]
  },
  {
   "attachments": {},
   "cell_type": "markdown",
   "metadata": {},
   "source": [
    "- **Width y Height** son las propiedades que se utilizan para establecer el ancho y el alto de un elemento, respectivamente.\n",
    "- Podemos clasificar las unicades de medida para CSS en dos, **unidades absolutas** y **unidades relativas**.\n"
   ]
  },
  {
   "attachments": {},
   "cell_type": "markdown",
   "metadata": {},
   "source": [
    "## Unidades de medida"
   ]
  },
  {
   "attachments": {},
   "cell_type": "markdown",
   "metadata": {},
   "source": [
    "### unidades absolutas"
   ]
  },
  {
   "attachments": {},
   "cell_type": "markdown",
   "metadata": {},
   "source": [
    "- Las unidades de medidas absolutas son aquellas que están completamente definidas, es decir, se encuentran definidas en términos concretos y de manera medible.\n",
    "    - Pixel.\n",
    "    - Milimetros.\n",
    "    - Centímetros.\n",
    "    - Pulgadas.\n",
    "    - Puntos."
   ]
  },
  {
   "attachments": {},
   "cell_type": "markdown",
   "metadata": {},
   "source": [
    "### Unidades Relativas"
   ]
  },
  {
   "attachments": {},
   "cell_type": "markdown",
   "metadata": {},
   "source": [
    "- Estas unidades no son valores exactos, sino que se calculan a partir de otro valor de referencia.\n",
    "    - Porcentaje(%)\n",
    "    - Viewport with (vw) y viewport heigt(vh)\n",
    "    - rem\n",
    "    - em"
   ]
  },
  {
   "cell_type": "markdown",
   "metadata": {},
   "source": []
  }
 ],
 "metadata": {
  "language_info": {
   "name": "python"
  },
  "orig_nbformat": 4
 },
 "nbformat": 4,
 "nbformat_minor": 2
}
